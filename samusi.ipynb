{
 "cells": [
  {
   "cell_type": "code",
   "execution_count": null,
   "metadata": {},
   "outputs": [
    {
     "name": "stderr",
     "output_type": "stream",
     "text": [
      "--- request header ---\n",
      "GET /websockets/v3?app_id=64724 HTTP/1.1\n",
      "Upgrade: websocket\n",
      "Host: ws.binaryws.com\n",
      "Origin: https://ws.binaryws.com\n",
      "Sec-WebSocket-Key: rSojkUEbqRjVdOpqLY/O3Q==\n",
      "Sec-WebSocket-Version: 13\n",
      "Connection: Upgrade\n",
      "\n",
      "\n",
      "-----------------------\n",
      "--- response header ---\n",
      "HTTP/1.1 101 Switching Protocols\n",
      "Date: Mon, 11 Nov 2024 15:06:22 GMT\n",
      "Content-Length: 0\n",
      "Connection: upgrade\n",
      "Content-Language: en\n",
      "Sec-WebSocket-Accept: D28lTmfwOzkeRZJM7OblyqQeyaM=\n",
      "Upgrade: websocket\n",
      "CF-Cache-Status: DYNAMIC\n",
      "Server: cloudflare\n",
      "CF-RAY: 8e0f2f8f680e65e6-MBA\n",
      "alt-svc: h3=\":443\"; ma=86400\n",
      "-----------------------\n",
      "Websocket connected\n",
      "++Sent raw: b'\\x81\\xa0\\xca\\x9c\\x14\\xdc\\xb1\\xbeu\\xa9\\xbe\\xf4{\\xae\\xa3\\xe6q\\xfe\\xf0\\xbc6\\x92\\x8c\\xacu\\x96\\x81\\xeaZ\\x96\\xfe\\xd5|\\x97\\xa4\\xc66\\xa1'\n",
      "++Sent decoded: fin=1 opcode=1 data=b'{\"authorize\": \"NF0aJKvNJ4IhKnZ\"}'\n"
     ]
    },
    {
     "name": "stdout",
     "output_type": "stream",
     "text": [
      "WebSocket connection opened\n"
     ]
    },
    {
     "name": "stderr",
     "output_type": "stream",
     "text": [
      "++Rcv raw: b'\\x81~\\x05\\xc2{\"authorize\":{\"account_list\":[{\"account_category\":\"trading\",\"account_type\":\"binary\",\"broker\":\"CR\",\"created_at\":1710220418,\"currency\":\"USD\",\"currency_type\":\"fiat\",\"is_disabled\":0,\"is_virtual\":0,\"landing_company_name\":\"svg\",\"linked_to\":[],\"loginid\":\"CR6779028\"},{\"account_category\":\"trading\",\"account_type\":\"binary\",\"broker\":\"CR\",\"created_at\":1709901738,\"currency\":\"BTC\",\"currency_type\":\"crypto\",\"is_disabled\":0,\"is_virtual\":0,\"landing_company_name\":\"svg\",\"linked_to\":[],\"loginid\":\"CR6763883\"},{\"account_category\":\"trading\",\"account_type\":\"binary\",\"broker\":\"CR\",\"created_at\":1721128861,\"currency\":\"tUSDT\",\"currency_type\":\"crypto\",\"is_disabled\":0,\"is_virtual\":0,\"landing_company_name\":\"svg\",\"linked_to\":[],\"loginid\":\"CR7371492\"},{\"account_category\":\"trading\",\"account_type\":\"binary\",\"broker\":\"VRTC\",\"created_at\":1709898717,\"currency\":\"USD\",\"currency_type\":\"fiat\",\"is_disabled\":0,\"is_virtual\":1,\"landing_company_name\":\"virtual\",\"linked_to\":[],\"loginid\":\"VRTC10086060\"}],\"balance\":9868.69,\"country\":\"ug\",\"currency\":\"USD\",\"email\":\"shamhundason@gmail.com\",\"fullname\":\" SAMUSI MUDEBO\",\"is_virtual\":1,\"landing_company_fullname\":\"Deriv Limited\",\"landing_company_name\":\"virtual\",\"linked_to\":[],\"local_currencies\":{\"UGX\":{\"fractional_digits\":2}},\"loginid\":\"VRTC10086060\",\"preferred_language\":\"EN\",\"scopes\":[\"admin\",\"payments\",\"read\",\"trade\",\"trading_information\"],\"upgradeable_landing_companies\":[\"svg\"],\"user_id\":14199614},\"echo_req\":{\"authorize\":\"<not shown>\"},\"msg_type\":\"authorize\"}'\n",
      "++Rcv decoded: fin=1 opcode=1 data=b'{\"authorize\":{\"account_list\":[{\"account_category\":\"trading\",\"account_type\":\"binary\",\"broker\":\"CR\",\"created_at\":1710220418,\"currency\":\"USD\",\"currency_type\":\"fiat\",\"is_disabled\":0,\"is_virtual\":0,\"landing_company_name\":\"svg\",\"linked_to\":[],\"loginid\":\"CR6779028\"},{\"account_category\":\"trading\",\"account_type\":\"binary\",\"broker\":\"CR\",\"created_at\":1709901738,\"currency\":\"BTC\",\"currency_type\":\"crypto\",\"is_disabled\":0,\"is_virtual\":0,\"landing_company_name\":\"svg\",\"linked_to\":[],\"loginid\":\"CR6763883\"},{\"account_category\":\"trading\",\"account_type\":\"binary\",\"broker\":\"CR\",\"created_at\":1721128861,\"currency\":\"tUSDT\",\"currency_type\":\"crypto\",\"is_disabled\":0,\"is_virtual\":0,\"landing_company_name\":\"svg\",\"linked_to\":[],\"loginid\":\"CR7371492\"},{\"account_category\":\"trading\",\"account_type\":\"binary\",\"broker\":\"VRTC\",\"created_at\":1709898717,\"currency\":\"USD\",\"currency_type\":\"fiat\",\"is_disabled\":0,\"is_virtual\":1,\"landing_company_name\":\"virtual\",\"linked_to\":[],\"loginid\":\"VRTC10086060\"}],\"balance\":9868.69,\"country\":\"ug\",\"currency\":\"USD\",\"email\":\"shamhundason@gmail.com\",\"fullname\":\" SAMUSI MUDEBO\",\"is_virtual\":1,\"landing_company_fullname\":\"Deriv Limited\",\"landing_company_name\":\"virtual\",\"linked_to\":[],\"local_currencies\":{\"UGX\":{\"fractional_digits\":2}},\"loginid\":\"VRTC10086060\",\"preferred_language\":\"EN\",\"scopes\":[\"admin\",\"payments\",\"read\",\"trade\",\"trading_information\"],\"upgradeable_landing_companies\":[\"svg\"],\"user_id\":14199614},\"echo_req\":{\"authorize\":\"<not shown>\"},\"msg_type\":\"authorize\"}'\n"
     ]
    },
    {
     "name": "stdout",
     "output_type": "stream",
     "text": [
      "Received data: {'authorize': {'account_list': [{'account_category': 'trading', 'account_type': 'binary', 'broker': 'CR', 'created_at': 1710220418, 'currency': 'USD', 'currency_type': 'fiat', 'is_disabled': 0, 'is_virtual': 0, 'landing_company_name': 'svg', 'linked_to': [], 'loginid': 'CR6779028'}, {'account_category': 'trading', 'account_type': 'binary', 'broker': 'CR', 'created_at': 1709901738, 'currency': 'BTC', 'currency_type': 'crypto', 'is_disabled': 0, 'is_virtual': 0, 'landing_company_name': 'svg', 'linked_to': [], 'loginid': 'CR6763883'}, {'account_category': 'trading', 'account_type': 'binary', 'broker': 'CR', 'created_at': 1721128861, 'currency': 'tUSDT', 'currency_type': 'crypto', 'is_disabled': 0, 'is_virtual': 0, 'landing_company_name': 'svg', 'linked_to': [], 'loginid': 'CR7371492'}, {'account_category': 'trading', 'account_type': 'binary', 'broker': 'VRTC', 'created_at': 1709898717, 'currency': 'USD', 'currency_type': 'fiat', 'is_disabled': 0, 'is_virtual': 1, 'landing_company_name': 'virtual', 'linked_to': [], 'loginid': 'VRTC10086060'}], 'balance': 9868.69, 'country': 'ug', 'currency': 'USD', 'email': 'shamhundason@gmail.com', 'fullname': ' SAMUSI MUDEBO', 'is_virtual': 1, 'landing_company_fullname': 'Deriv Limited', 'landing_company_name': 'virtual', 'linked_to': [], 'local_currencies': {'UGX': {'fractional_digits': 2}}, 'loginid': 'VRTC10086060', 'preferred_language': 'EN', 'scopes': ['admin', 'payments', 'read', 'trade', 'trading_information'], 'upgradeable_landing_companies': ['svg'], 'user_id': 14199614}, 'echo_req': {'authorize': '<not shown>'}, 'msg_type': 'authorize'}\n"
     ]
    },
    {
     "name": "stderr",
     "output_type": "stream",
     "text": [
      "++Sent raw: b'\\x81\\xfe\\x00\\x84\\xb3\\xef!\\n\\xc8\\xcdUc\\xd0\\x84RU\\xdb\\x86R~\\xdc\\x9dX(\\x89\\xcf\\x03X\\xec\\xde\\x11:\\x91\\xc3\\x01(\\xd2\\x8bK\\x7f\\xc0\\x9b~y\\xc7\\x8eS~\\xec\\x9bHg\\xd6\\xcd\\x1b*\\x82\\xc3\\x01(\\xd0\\x80Td\\xc7\\xcd\\x1b*\\x82\\xdf\\x11&\\x93\\xcdDd\\xd7\\xcd\\x1b*\\x91\\x83@~\\xd6\\x9cU(\\x9f\\xcf\\x03y\\xc7\\x8eS~\\x91\\xd5\\x01;\\x9f\\xcf\\x03y\\xc7\\x96Mo\\x91\\xd5\\x01(\\xd0\\x8eOn\\xdf\\x8aR(\\x9f\\xcf\\x03m\\xc1\\x8eO\\x7f\\xdf\\x8eSc\\xc7\\x96\\x030\\x93\\xd9\\x11w'\n",
      "++Sent decoded: fin=1 opcode=1 data=b'{\"ticks_history\": \"R_100\", \"adjust_start_time\": 1, \"count\": 100, \"end\": \"latest\", \"start\": 1, \"style\": \"candles\", \"granularity\": 60}'\n"
     ]
    },
    {
     "name": "stdout",
     "output_type": "stream",
     "text": [
      "Connected to WebSocket\n"
     ]
    },
    {
     "name": "stderr",
     "output_type": "stream",
     "text": [
      "++Rcv raw: b'\\x81~ \\x16{\"candles\":[{\"close\":1042.81,\"epoch\":1731331620,\"high\":1042.81,\"low\":1041.34,\"open\":1042.15},{\"close\":1042.27,\"epoch\":1731331680,\"high\":1043.11,\"low\":1041.8,\"open\":1042.87},{\"close\":1038.73,\"epoch\":1731331740,\"high\":1042.45,\"low\":1038.73,\"open\":1042.27},{\"close\":1038.25,\"epoch\":1731331800,\"high\":1039.56,\"low\":1038.17,\"open\":1038.73},{\"close\":1040.42,\"epoch\":1731331860,\"high\":1040.46,\"low\":1037.7,\"open\":1038.51},{\"close\":1040.68,\"epoch\":1731331920,\"high\":1040.68,\"low\":1039.07,\"open\":1040.33},{\"close\":1040.35,\"epoch\":1731331980,\"high\":1040.81,\"low\":1039.29,\"open\":1040.27},{\"close\":1041.36,\"epoch\":1731332040,\"high\":1041.36,\"low\":1039.75,\"open\":1040.22},{\"close\":1041.73,\"epoch\":1731332100,\"high\":1042.38,\"low\":1040.48,\"open\":1041.51},{\"close\":1041.36,\"epoch\":1731332160,\"high\":1041.9,\"low\":1040.15,\"open\":1041.6},{\"close\":1043.1,\"epoch\":1731332220,\"high\":1043.6,\"low\":1041.8,\"open\":1041.9},{\"close\":1042.66,\"epoch\":1731332280,\"high\":1042.89,\"low\":1041.7,\"open\":1042.68},{\"close\":1043,\"epoch\":1731332340,\"high\":1043.2,\"low\":1042.5,\"open\":1042.64},{\"close\":1043.15,\"epoch\":1731332400,\"high\":1043.27,\"low\":1042.06,\"open\":1043.27},{\"close\":1042.92,\"epoch\":1731332460,\"high\":1043.78,\"low\":1042.44,\"open\":1043.4},{\"close\":1039.97,\"epoch\":1731332520,\"high\":1043.53,\"low\":1039.97,\"open\":1042.92},{\"close\":1038.48,\"epoch\":1731332580,\"high\":1040.69,\"low\":1037.9,\"open\":1040.21},{\"close\":1038.96,\"epoch\":1731332640,\"high\":1039.8,\"low\":1038.17,\"open\":1038.18},{\"close\":1037.84,\"epoch\":1731332700,\"high\":1039.31,\"low\":1036.87,\"open\":1038.86},{\"close\":1036.64,\"epoch\":1731332760,\"high\":1039.01,\"low\":1036.2,\"open\":1038.41},{\"close\":1035.36,\"epoch\":1731332820,\"high\":1036.75,\"low\":1034.48,\"open\":1036.75},{\"close\":1034.63,\"epoch\":1731332880,\"high\":1035.66,\"low\":1033.67,\"open\":1035.21},{\"close\":1036.47,\"epoch\":1731332940,\"high\":1036.58,\"low\":1033.64,\"open\":1034.22},{\"close\":1035.59,\"epoch\":1731333000,\"high\":1036.48,\"low\":1034.5,\"open\":1036.13},{\"close\":1033.08,\"epoch\":1731333060,\"high\":1035.6,\"low\":1033.08,\"open\":1035.3},{\"close\":1030.91,\"epoch\":1731333120,\"high\":1033.95,\"low\":1030.91,\"open\":1033.4},{\"close\":1032.27,\"epoch\":1731333180,\"high\":1032.74,\"low\":1031.24,\"open\":1031.24},{\"close\":1032.56,\"epoch\":1731333240,\"high\":1033.45,\"low\":1031.57,\"open\":1032.52},{\"close\":1032.46,\"epoch\":1731333300,\"high\":1034.04,\"low\":1032.46,\"open\":1032.67},{\"close\":1031.2,\"epoch\":1731333360,\"high\":1033.93,\"low\":1031.2,\"open\":1032.5},{\"close\":1033.51,\"epoch\":1731333420,\"high\":1033.51,\"low\":1031.09,\"open\":1031.38},{\"close\":1033.55,\"epoch\":1731333480,\"high\":1033.86,\"low\":1032.68,\"open\":1033.4},{\"close\":1034.68,\"epoch\":1731333540,\"high\":1035.19,\"low\":1033.55,\"open\":1033.55},{\"close\":1034.36,\"epoch\":1731333600,\"high\":1035.1,\"low\":1033.21,\"open\":1035.1},{\"close\":1035.38,\"epoch\":1731333660,\"high\":1035.62,\"low\":1033.91,\"open\":1034.25},{\"close\":1034.81,\"epoch\":1731333720,\"high\":1036.72,\"low\":1034.46,\"open\":1035.43},{\"close\":1035.4,\"epoch\":1731333780,\"high\":1035.81,\"low\":1034.18,\"open\":1034.77},{\"close\":1033.81,\"epoch\":1731333840,\"high\":1035.4,\"low\":1033.42,\"open\":1035.19},{\"close\":1032.78,\"epoch\":1731333900,\"high\":1034.2,\"low\":1032.49,\"open\":1033.93},{\"close\":1033.57,\"epoch\":1731333960,\"high\":1033.72,\"low\":1032.21,\"open\":1032.97},{\"close\":1032.92,\"epoch\":1731334020,\"high\":1034.4,\"low\":1032.39,\"open\":1033.62},{\"close\":1034.13,\"epoch\":1731334080,\"high\":1034.97,\"low\":1032.92,\"open\":1033.18},{\"close\":1034.04,\"epoch\":1731334140,\"high\":1034.39,\"low\":1033.32,\"open\":1034.16},{\"close\":1033.32,\"epoch\":1731334200,\"high\":1034.36,\"low\":1032.41,\"open\":1034.22},{\"close\":1032.65,\"epoch\":1731334260,\"high\":1034.64,\"low\":1032.65,\"open\":1033.4},{\"close\":1033.79,\"epoch\":1731334320,\"high\":1034.64,\"low\":1032.3,\"open\":1032.57},{\"close\":1034.59,\"epoch\":1731334380,\"high\":1035.01,\"low\":1033.98,\"open\":1033.98},{\"close\":1034.62,\"epoch\":1731334440,\"high\":1035.28,\"low\":1034,\"open\":1034.66},{\"close\":1034.04,\"epoch\":1731334500,\"high\":1034.58,\"low\":1032.85,\"open\":1034.37},{\"close\":1031.88,\"epoch\":1731334560,\"high\":1033.32,\"low\":1031.23,\"open\":1033.32},{\"close\":1031.85,\"epoch\":1731334620,\"high\":1032.59,\"low\":1031.01,\"open\":1031.96},{\"close\":1030.52,\"epoch\":1731334680,\"high\":1032.72,\"low\":1030.44,\"open\":1031.58},{\"close\":1031.54,\"epoch\":1731334740,\"high\":1031.65,\"low\":1029.86,\"open\":1030.44},{\"close\":1031,\"epoch\":1731334800,\"high\":1031.94,\"low\":1030.82,\"open\":1031.38},{\"close\":1029.95,\"epoch\":1731334860,\"high\":1031.11,\"low\":1029.54,\"open\":1030.7},{\"close\":1028.75,\"epoch\":1731334920,\"high\":1030.22,\"low\":1028.41,\"open\":1029.89},{\"close\":1028.67,\"epoch\":1731334980,\"high\":1028.94,\"low\":1027.6,\"open\":1028.63},{\"close\":1028.24,\"epoch\":1731335040,\"high\":1028.44,\"low\":1027.35,\"open\":1028.2},{\"close\":1028.91,\"epoch\":1731335100,\"high\":1028.93,\"low\":1027.02,\"open\":1027.86},{\"close\":1028.11,\"epoch\":1731335160,\"high\":1029.57,\"low\":1027.71,\"open\":1028.66},{\"close\":1028.14,\"epoch\":1731335220,\"high\":1030.32,\"low\":1027.54,\"open\":1027.92},{\"close\":1029.05,\"epoch\":1731335280,\"high\":1029.27,\"low\":1027.15,\"open\":1027.8},{\"close\":1027.94,\"epoch\":1731335340,\"high\":1028.92,\"low\":1027.87,\"open\":1028.88},{\"close\":1030.88,\"epoch\":1731335400,\"high\":1030.88,\"low\":1027.91,\"open\":1027.91},{\"close\":1034.94,\"epoch\":1731335460,\"high\":1035.27,\"low\":1030.62,\"open\":1030.62},{\"close\":1033.2,\"epoch\":1731335520,\"high\":1035.23,\"low\":1032.83,\"open\":1034.83},{\"close\":1033.58,\"epoch\":1731335580,\"high\":1033.77,\"low\":1032.35,\"open\":1033.47},{\"close\":1033.86,\"epoch\":1731335640,\"high\":1035.11,\"low\":1033.49,\"open\":1033.57},{\"close\":1034.57,\"epoch\":1731335700,\"high\":1035,\"low\":1032.94,\"open\":1033.89},{\"close\":1034.59,\"epoch\":1731335760,\"high\":1035.07,\"low\":1033.69,\"open\":1034.8},{\"close\":1032.86,\"epoch\":1731335820,\"high\":1034.7,\"low\":1032.47,\"open\":1034.48},{\"close\":1032.25,\"epoch\":1731335880,\"high\":1032.97,\"low\":1030.52,\"open\":1032.93},{\"close\":1032.6,\"epoch\":1731335940,\"high\":1032.76,\"low\":1031.3,\"open\":1032.12},{\"close\":1033.5,\"epoch\":1731336000,\"high\":1033.58,\"low\":1032.19,\"open\":1032.69},{\"close\":1034.78,\"epoch\":1731336060,\"high\":1035.72,\"low\":1032.9,\"open\":1033.43},{\"close\":1031.54,\"epoch\":1731336120,\"high\":1034.9,\"low\":1031.31,\"open\":1034.9},{\"close\":1030.05,\"epoch\":1731336180,\"high\":1031.97,\"low\":1030.05,\"open\":1031.54},{\"close\":1030.59,\"epoch\":1731336240,\"high\":1030.98,\"low\":1029.79,\"open\":1030.33},{\"close\":1032.31,\"epoch\":1731336300,\"high\":1032.46,\"low\":1029.97,\"open\":1030.32},{\"close\":1032.24,\"epoch\":1731336360,\"high\":1033.08,\"low\":1031.71,\"open\":1032.07},{\"close\":1031.23,\"epoch\":1731336420,\"high\":1032.53,\"low\":1030.65,\"open\":1032.53},{\"close\":1032.12,\"epoch\":1731336480,\"high\":1032.17,\"low\":1031.08,\"open\":1031.6},{\"close\":1031.96,\"epoch\":1731336540,\"high\":1032.74,\"low\":1031.33,\"open\":1032.74},{\"close\":1031.27,\"epoch\":1731336600,\"high\":1032.54,\"low\":1030.78,\"open\":1031.91},{\"close\":1031.81,\"epoch\":1731336660,\"high\":1032.07,\"low\":1030.6,\"open\":1030.97},{\"close\":1031.08,\"epoch\":1731336720,\"high\":1033,\"low\":1030.76,\"open\":1031.96},{\"close\":1032.34,\"epoch\":1731336780,\"high\":1032.34,\"low\":1030.99,\"open\":1030.99},{\"close\":1031.34,\"epoch\":1731336840,\"high\":1033.26,\"low\":1030.98,\"open\":1032.31},{\"close\":1030.93,\"epoch\":1731336900,\"high\":1032.12,\"low\":1030.6,\"open\":1031.23},{\"close\":1029.7,\"epoch\":1731336960,\"high\":1031.92,\"low\":1029.67,\"open\":1031.12},{\"close\":1029.13,\"epoch\":1731337020,\"high\":1030.51,\"low\":1028.95,\"open\":1029.85},{\"close\":1028.08,\"epoch\":1731337080,\"high\":1029.46,\"low\":1027.69,\"open\":1029.31},{\"close\":1026.34,\"epoch\":1731337140,\"high\":1029.22,\"low\":1026.34,\"open\":1028.39},{\"close\":1024.86,\"epoch\":1731337200,\"high\":1027.28,\"low\":1024.86,\"open\":1026.09},{\"close\":1023.62,\"epoch\":1731337260,\"high\":1024.83,\"low\":1023.62,\"open\":1024.64},{\"close\":1023.35,\"epoch\":1731337320,\"high\":1023.56,\"low\":1022.3,\"open\":1023.33},{\"close\":1022.57,\"epoch\":1731337380,\"high\":1023.52,\"low\":1021.92,\"open\":1023.09},{\"close\":1022.34,\"epoch\":1731337440,\"high\":1022.92,\"low\":1021.09,\"open\":1022.79},{\"close\":1022.67,\"epoch\":1731337500,\"high\":1022.81,\"low\":1021.54,\"open\":1022.43},{\"close\":1021.48,\"epoch\":1731337560,\"high\":1022.83,\"low\":1021.23,\"open\":1022.83}],\"echo_req\":{\"adjust_start_time\":1,\"count\":100,\"end\":\"latest\",\"granularity\":60,\"start\":1,\"style\":\"candles\",\"ticks_history\":\"R_100\"},\"msg_type\":\"candles\",\"pip_size\":2}'\n",
      "++Rcv decoded: fin=1 opcode=1 data=b'{\"candles\":[{\"close\":1042.81,\"epoch\":1731331620,\"high\":1042.81,\"low\":1041.34,\"open\":1042.15},{\"close\":1042.27,\"epoch\":1731331680,\"high\":1043.11,\"low\":1041.8,\"open\":1042.87},{\"close\":1038.73,\"epoch\":1731331740,\"high\":1042.45,\"low\":1038.73,\"open\":1042.27},{\"close\":1038.25,\"epoch\":1731331800,\"high\":1039.56,\"low\":1038.17,\"open\":1038.73},{\"close\":1040.42,\"epoch\":1731331860,\"high\":1040.46,\"low\":1037.7,\"open\":1038.51},{\"close\":1040.68,\"epoch\":1731331920,\"high\":1040.68,\"low\":1039.07,\"open\":1040.33},{\"close\":1040.35,\"epoch\":1731331980,\"high\":1040.81,\"low\":1039.29,\"open\":1040.27},{\"close\":1041.36,\"epoch\":1731332040,\"high\":1041.36,\"low\":1039.75,\"open\":1040.22},{\"close\":1041.73,\"epoch\":1731332100,\"high\":1042.38,\"low\":1040.48,\"open\":1041.51},{\"close\":1041.36,\"epoch\":1731332160,\"high\":1041.9,\"low\":1040.15,\"open\":1041.6},{\"close\":1043.1,\"epoch\":1731332220,\"high\":1043.6,\"low\":1041.8,\"open\":1041.9},{\"close\":1042.66,\"epoch\":1731332280,\"high\":1042.89,\"low\":1041.7,\"open\":1042.68},{\"close\":1043,\"epoch\":1731332340,\"high\":1043.2,\"low\":1042.5,\"open\":1042.64},{\"close\":1043.15,\"epoch\":1731332400,\"high\":1043.27,\"low\":1042.06,\"open\":1043.27},{\"close\":1042.92,\"epoch\":1731332460,\"high\":1043.78,\"low\":1042.44,\"open\":1043.4},{\"close\":1039.97,\"epoch\":1731332520,\"high\":1043.53,\"low\":1039.97,\"open\":1042.92},{\"close\":1038.48,\"epoch\":1731332580,\"high\":1040.69,\"low\":1037.9,\"open\":1040.21},{\"close\":1038.96,\"epoch\":1731332640,\"high\":1039.8,\"low\":1038.17,\"open\":1038.18},{\"close\":1037.84,\"epoch\":1731332700,\"high\":1039.31,\"low\":1036.87,\"open\":1038.86},{\"close\":1036.64,\"epoch\":1731332760,\"high\":1039.01,\"low\":1036.2,\"open\":1038.41},{\"close\":1035.36,\"epoch\":1731332820,\"high\":1036.75,\"low\":1034.48,\"open\":1036.75},{\"close\":1034.63,\"epoch\":1731332880,\"high\":1035.66,\"low\":1033.67,\"open\":1035.21},{\"close\":1036.47,\"epoch\":1731332940,\"high\":1036.58,\"low\":1033.64,\"open\":1034.22},{\"close\":1035.59,\"epoch\":1731333000,\"high\":1036.48,\"low\":1034.5,\"open\":1036.13},{\"close\":1033.08,\"epoch\":1731333060,\"high\":1035.6,\"low\":1033.08,\"open\":1035.3},{\"close\":1030.91,\"epoch\":1731333120,\"high\":1033.95,\"low\":1030.91,\"open\":1033.4},{\"close\":1032.27,\"epoch\":1731333180,\"high\":1032.74,\"low\":1031.24,\"open\":1031.24},{\"close\":1032.56,\"epoch\":1731333240,\"high\":1033.45,\"low\":1031.57,\"open\":1032.52},{\"close\":1032.46,\"epoch\":1731333300,\"high\":1034.04,\"low\":1032.46,\"open\":1032.67},{\"close\":1031.2,\"epoch\":1731333360,\"high\":1033.93,\"low\":1031.2,\"open\":1032.5},{\"close\":1033.51,\"epoch\":1731333420,\"high\":1033.51,\"low\":1031.09,\"open\":1031.38},{\"close\":1033.55,\"epoch\":1731333480,\"high\":1033.86,\"low\":1032.68,\"open\":1033.4},{\"close\":1034.68,\"epoch\":1731333540,\"high\":1035.19,\"low\":1033.55,\"open\":1033.55},{\"close\":1034.36,\"epoch\":1731333600,\"high\":1035.1,\"low\":1033.21,\"open\":1035.1},{\"close\":1035.38,\"epoch\":1731333660,\"high\":1035.62,\"low\":1033.91,\"open\":1034.25},{\"close\":1034.81,\"epoch\":1731333720,\"high\":1036.72,\"low\":1034.46,\"open\":1035.43},{\"close\":1035.4,\"epoch\":1731333780,\"high\":1035.81,\"low\":1034.18,\"open\":1034.77},{\"close\":1033.81,\"epoch\":1731333840,\"high\":1035.4,\"low\":1033.42,\"open\":1035.19},{\"close\":1032.78,\"epoch\":1731333900,\"high\":1034.2,\"low\":1032.49,\"open\":1033.93},{\"close\":1033.57,\"epoch\":1731333960,\"high\":1033.72,\"low\":1032.21,\"open\":1032.97},{\"close\":1032.92,\"epoch\":1731334020,\"high\":1034.4,\"low\":1032.39,\"open\":1033.62},{\"close\":1034.13,\"epoch\":1731334080,\"high\":1034.97,\"low\":1032.92,\"open\":1033.18},{\"close\":1034.04,\"epoch\":1731334140,\"high\":1034.39,\"low\":1033.32,\"open\":1034.16},{\"close\":1033.32,\"epoch\":1731334200,\"high\":1034.36,\"low\":1032.41,\"open\":1034.22},{\"close\":1032.65,\"epoch\":1731334260,\"high\":1034.64,\"low\":1032.65,\"open\":1033.4},{\"close\":1033.79,\"epoch\":1731334320,\"high\":1034.64,\"low\":1032.3,\"open\":1032.57},{\"close\":1034.59,\"epoch\":1731334380,\"high\":1035.01,\"low\":1033.98,\"open\":1033.98},{\"close\":1034.62,\"epoch\":1731334440,\"high\":1035.28,\"low\":1034,\"open\":1034.66},{\"close\":1034.04,\"epoch\":1731334500,\"high\":1034.58,\"low\":1032.85,\"open\":1034.37},{\"close\":1031.88,\"epoch\":1731334560,\"high\":1033.32,\"low\":1031.23,\"open\":1033.32},{\"close\":1031.85,\"epoch\":1731334620,\"high\":1032.59,\"low\":1031.01,\"open\":1031.96},{\"close\":1030.52,\"epoch\":1731334680,\"high\":1032.72,\"low\":1030.44,\"open\":1031.58},{\"close\":1031.54,\"epoch\":1731334740,\"high\":1031.65,\"low\":1029.86,\"open\":1030.44},{\"close\":1031,\"epoch\":1731334800,\"high\":1031.94,\"low\":1030.82,\"open\":1031.38},{\"close\":1029.95,\"epoch\":1731334860,\"high\":1031.11,\"low\":1029.54,\"open\":1030.7},{\"close\":1028.75,\"epoch\":1731334920,\"high\":1030.22,\"low\":1028.41,\"open\":1029.89},{\"close\":1028.67,\"epoch\":1731334980,\"high\":1028.94,\"low\":1027.6,\"open\":1028.63},{\"close\":1028.24,\"epoch\":1731335040,\"high\":1028.44,\"low\":1027.35,\"open\":1028.2},{\"close\":1028.91,\"epoch\":1731335100,\"high\":1028.93,\"low\":1027.02,\"open\":1027.86},{\"close\":1028.11,\"epoch\":1731335160,\"high\":1029.57,\"low\":1027.71,\"open\":1028.66},{\"close\":1028.14,\"epoch\":1731335220,\"high\":1030.32,\"low\":1027.54,\"open\":1027.92},{\"close\":1029.05,\"epoch\":1731335280,\"high\":1029.27,\"low\":1027.15,\"open\":1027.8},{\"close\":1027.94,\"epoch\":1731335340,\"high\":1028.92,\"low\":1027.87,\"open\":1028.88},{\"close\":1030.88,\"epoch\":1731335400,\"high\":1030.88,\"low\":1027.91,\"open\":1027.91},{\"close\":1034.94,\"epoch\":1731335460,\"high\":1035.27,\"low\":1030.62,\"open\":1030.62},{\"close\":1033.2,\"epoch\":1731335520,\"high\":1035.23,\"low\":1032.83,\"open\":1034.83},{\"close\":1033.58,\"epoch\":1731335580,\"high\":1033.77,\"low\":1032.35,\"open\":1033.47},{\"close\":1033.86,\"epoch\":1731335640,\"high\":1035.11,\"low\":1033.49,\"open\":1033.57},{\"close\":1034.57,\"epoch\":1731335700,\"high\":1035,\"low\":1032.94,\"open\":1033.89},{\"close\":1034.59,\"epoch\":1731335760,\"high\":1035.07,\"low\":1033.69,\"open\":1034.8},{\"close\":1032.86,\"epoch\":1731335820,\"high\":1034.7,\"low\":1032.47,\"open\":1034.48},{\"close\":1032.25,\"epoch\":1731335880,\"high\":1032.97,\"low\":1030.52,\"open\":1032.93},{\"close\":1032.6,\"epoch\":1731335940,\"high\":1032.76,\"low\":1031.3,\"open\":1032.12},{\"close\":1033.5,\"epoch\":1731336000,\"high\":1033.58,\"low\":1032.19,\"open\":1032.69},{\"close\":1034.78,\"epoch\":1731336060,\"high\":1035.72,\"low\":1032.9,\"open\":1033.43},{\"close\":1031.54,\"epoch\":1731336120,\"high\":1034.9,\"low\":1031.31,\"open\":1034.9},{\"close\":1030.05,\"epoch\":1731336180,\"high\":1031.97,\"low\":1030.05,\"open\":1031.54},{\"close\":1030.59,\"epoch\":1731336240,\"high\":1030.98,\"low\":1029.79,\"open\":1030.33},{\"close\":1032.31,\"epoch\":1731336300,\"high\":1032.46,\"low\":1029.97,\"open\":1030.32},{\"close\":1032.24,\"epoch\":1731336360,\"high\":1033.08,\"low\":1031.71,\"open\":1032.07},{\"close\":1031.23,\"epoch\":1731336420,\"high\":1032.53,\"low\":1030.65,\"open\":1032.53},{\"close\":1032.12,\"epoch\":1731336480,\"high\":1032.17,\"low\":1031.08,\"open\":1031.6},{\"close\":1031.96,\"epoch\":1731336540,\"high\":1032.74,\"low\":1031.33,\"open\":1032.74},{\"close\":1031.27,\"epoch\":1731336600,\"high\":1032.54,\"low\":1030.78,\"open\":1031.91},{\"close\":1031.81,\"epoch\":1731336660,\"high\":1032.07,\"low\":1030.6,\"open\":1030.97},{\"close\":1031.08,\"epoch\":1731336720,\"high\":1033,\"low\":1030.76,\"open\":1031.96},{\"close\":1032.34,\"epoch\":1731336780,\"high\":1032.34,\"low\":1030.99,\"open\":1030.99},{\"close\":1031.34,\"epoch\":1731336840,\"high\":1033.26,\"low\":1030.98,\"open\":1032.31},{\"close\":1030.93,\"epoch\":1731336900,\"high\":1032.12,\"low\":1030.6,\"open\":1031.23},{\"close\":1029.7,\"epoch\":1731336960,\"high\":1031.92,\"low\":1029.67,\"open\":1031.12},{\"close\":1029.13,\"epoch\":1731337020,\"high\":1030.51,\"low\":1028.95,\"open\":1029.85},{\"close\":1028.08,\"epoch\":1731337080,\"high\":1029.46,\"low\":1027.69,\"open\":1029.31},{\"close\":1026.34,\"epoch\":1731337140,\"high\":1029.22,\"low\":1026.34,\"open\":1028.39},{\"close\":1024.86,\"epoch\":1731337200,\"high\":1027.28,\"low\":1024.86,\"open\":1026.09},{\"close\":1023.62,\"epoch\":1731337260,\"high\":1024.83,\"low\":1023.62,\"open\":1024.64},{\"close\":1023.35,\"epoch\":1731337320,\"high\":1023.56,\"low\":1022.3,\"open\":1023.33},{\"close\":1022.57,\"epoch\":1731337380,\"high\":1023.52,\"low\":1021.92,\"open\":1023.09},{\"close\":1022.34,\"epoch\":1731337440,\"high\":1022.92,\"low\":1021.09,\"open\":1022.79},{\"close\":1022.67,\"epoch\":1731337500,\"high\":1022.81,\"low\":1021.54,\"open\":1022.43},{\"close\":1021.48,\"epoch\":1731337560,\"high\":1022.83,\"low\":1021.23,\"open\":1022.83}],\"echo_req\":{\"adjust_start_time\":1,\"count\":100,\"end\":\"latest\",\"granularity\":60,\"start\":1,\"style\":\"candles\",\"ticks_history\":\"R_100\"},\"msg_type\":\"candles\",\"pip_size\":2}'\n"
     ]
    },
    {
     "name": "stdout",
     "output_type": "stream",
     "text": [
      "Received data: {'candles': [{'close': 1042.81, 'epoch': 1731331620, 'high': 1042.81, 'low': 1041.34, 'open': 1042.15}, {'close': 1042.27, 'epoch': 1731331680, 'high': 1043.11, 'low': 1041.8, 'open': 1042.87}, {'close': 1038.73, 'epoch': 1731331740, 'high': 1042.45, 'low': 1038.73, 'open': 1042.27}, {'close': 1038.25, 'epoch': 1731331800, 'high': 1039.56, 'low': 1038.17, 'open': 1038.73}, {'close': 1040.42, 'epoch': 1731331860, 'high': 1040.46, 'low': 1037.7, 'open': 1038.51}, {'close': 1040.68, 'epoch': 1731331920, 'high': 1040.68, 'low': 1039.07, 'open': 1040.33}, {'close': 1040.35, 'epoch': 1731331980, 'high': 1040.81, 'low': 1039.29, 'open': 1040.27}, {'close': 1041.36, 'epoch': 1731332040, 'high': 1041.36, 'low': 1039.75, 'open': 1040.22}, {'close': 1041.73, 'epoch': 1731332100, 'high': 1042.38, 'low': 1040.48, 'open': 1041.51}, {'close': 1041.36, 'epoch': 1731332160, 'high': 1041.9, 'low': 1040.15, 'open': 1041.6}, {'close': 1043.1, 'epoch': 1731332220, 'high': 1043.6, 'low': 1041.8, 'open': 1041.9}, {'close': 1042.66, 'epoch': 1731332280, 'high': 1042.89, 'low': 1041.7, 'open': 1042.68}, {'close': 1043, 'epoch': 1731332340, 'high': 1043.2, 'low': 1042.5, 'open': 1042.64}, {'close': 1043.15, 'epoch': 1731332400, 'high': 1043.27, 'low': 1042.06, 'open': 1043.27}, {'close': 1042.92, 'epoch': 1731332460, 'high': 1043.78, 'low': 1042.44, 'open': 1043.4}, {'close': 1039.97, 'epoch': 1731332520, 'high': 1043.53, 'low': 1039.97, 'open': 1042.92}, {'close': 1038.48, 'epoch': 1731332580, 'high': 1040.69, 'low': 1037.9, 'open': 1040.21}, {'close': 1038.96, 'epoch': 1731332640, 'high': 1039.8, 'low': 1038.17, 'open': 1038.18}, {'close': 1037.84, 'epoch': 1731332700, 'high': 1039.31, 'low': 1036.87, 'open': 1038.86}, {'close': 1036.64, 'epoch': 1731332760, 'high': 1039.01, 'low': 1036.2, 'open': 1038.41}, {'close': 1035.36, 'epoch': 1731332820, 'high': 1036.75, 'low': 1034.48, 'open': 1036.75}, {'close': 1034.63, 'epoch': 1731332880, 'high': 1035.66, 'low': 1033.67, 'open': 1035.21}, {'close': 1036.47, 'epoch': 1731332940, 'high': 1036.58, 'low': 1033.64, 'open': 1034.22}, {'close': 1035.59, 'epoch': 1731333000, 'high': 1036.48, 'low': 1034.5, 'open': 1036.13}, {'close': 1033.08, 'epoch': 1731333060, 'high': 1035.6, 'low': 1033.08, 'open': 1035.3}, {'close': 1030.91, 'epoch': 1731333120, 'high': 1033.95, 'low': 1030.91, 'open': 1033.4}, {'close': 1032.27, 'epoch': 1731333180, 'high': 1032.74, 'low': 1031.24, 'open': 1031.24}, {'close': 1032.56, 'epoch': 1731333240, 'high': 1033.45, 'low': 1031.57, 'open': 1032.52}, {'close': 1032.46, 'epoch': 1731333300, 'high': 1034.04, 'low': 1032.46, 'open': 1032.67}, {'close': 1031.2, 'epoch': 1731333360, 'high': 1033.93, 'low': 1031.2, 'open': 1032.5}, {'close': 1033.51, 'epoch': 1731333420, 'high': 1033.51, 'low': 1031.09, 'open': 1031.38}, {'close': 1033.55, 'epoch': 1731333480, 'high': 1033.86, 'low': 1032.68, 'open': 1033.4}, {'close': 1034.68, 'epoch': 1731333540, 'high': 1035.19, 'low': 1033.55, 'open': 1033.55}, {'close': 1034.36, 'epoch': 1731333600, 'high': 1035.1, 'low': 1033.21, 'open': 1035.1}, {'close': 1035.38, 'epoch': 1731333660, 'high': 1035.62, 'low': 1033.91, 'open': 1034.25}, {'close': 1034.81, 'epoch': 1731333720, 'high': 1036.72, 'low': 1034.46, 'open': 1035.43}, {'close': 1035.4, 'epoch': 1731333780, 'high': 1035.81, 'low': 1034.18, 'open': 1034.77}, {'close': 1033.81, 'epoch': 1731333840, 'high': 1035.4, 'low': 1033.42, 'open': 1035.19}, {'close': 1032.78, 'epoch': 1731333900, 'high': 1034.2, 'low': 1032.49, 'open': 1033.93}, {'close': 1033.57, 'epoch': 1731333960, 'high': 1033.72, 'low': 1032.21, 'open': 1032.97}, {'close': 1032.92, 'epoch': 1731334020, 'high': 1034.4, 'low': 1032.39, 'open': 1033.62}, {'close': 1034.13, 'epoch': 1731334080, 'high': 1034.97, 'low': 1032.92, 'open': 1033.18}, {'close': 1034.04, 'epoch': 1731334140, 'high': 1034.39, 'low': 1033.32, 'open': 1034.16}, {'close': 1033.32, 'epoch': 1731334200, 'high': 1034.36, 'low': 1032.41, 'open': 1034.22}, {'close': 1032.65, 'epoch': 1731334260, 'high': 1034.64, 'low': 1032.65, 'open': 1033.4}, {'close': 1033.79, 'epoch': 1731334320, 'high': 1034.64, 'low': 1032.3, 'open': 1032.57}, {'close': 1034.59, 'epoch': 1731334380, 'high': 1035.01, 'low': 1033.98, 'open': 1033.98}, {'close': 1034.62, 'epoch': 1731334440, 'high': 1035.28, 'low': 1034, 'open': 1034.66}, {'close': 1034.04, 'epoch': 1731334500, 'high': 1034.58, 'low': 1032.85, 'open': 1034.37}, {'close': 1031.88, 'epoch': 1731334560, 'high': 1033.32, 'low': 1031.23, 'open': 1033.32}, {'close': 1031.85, 'epoch': 1731334620, 'high': 1032.59, 'low': 1031.01, 'open': 1031.96}, {'close': 1030.52, 'epoch': 1731334680, 'high': 1032.72, 'low': 1030.44, 'open': 1031.58}, {'close': 1031.54, 'epoch': 1731334740, 'high': 1031.65, 'low': 1029.86, 'open': 1030.44}, {'close': 1031, 'epoch': 1731334800, 'high': 1031.94, 'low': 1030.82, 'open': 1031.38}, {'close': 1029.95, 'epoch': 1731334860, 'high': 1031.11, 'low': 1029.54, 'open': 1030.7}, {'close': 1028.75, 'epoch': 1731334920, 'high': 1030.22, 'low': 1028.41, 'open': 1029.89}, {'close': 1028.67, 'epoch': 1731334980, 'high': 1028.94, 'low': 1027.6, 'open': 1028.63}, {'close': 1028.24, 'epoch': 1731335040, 'high': 1028.44, 'low': 1027.35, 'open': 1028.2}, {'close': 1028.91, 'epoch': 1731335100, 'high': 1028.93, 'low': 1027.02, 'open': 1027.86}, {'close': 1028.11, 'epoch': 1731335160, 'high': 1029.57, 'low': 1027.71, 'open': 1028.66}, {'close': 1028.14, 'epoch': 1731335220, 'high': 1030.32, 'low': 1027.54, 'open': 1027.92}, {'close': 1029.05, 'epoch': 1731335280, 'high': 1029.27, 'low': 1027.15, 'open': 1027.8}, {'close': 1027.94, 'epoch': 1731335340, 'high': 1028.92, 'low': 1027.87, 'open': 1028.88}, {'close': 1030.88, 'epoch': 1731335400, 'high': 1030.88, 'low': 1027.91, 'open': 1027.91}, {'close': 1034.94, 'epoch': 1731335460, 'high': 1035.27, 'low': 1030.62, 'open': 1030.62}, {'close': 1033.2, 'epoch': 1731335520, 'high': 1035.23, 'low': 1032.83, 'open': 1034.83}, {'close': 1033.58, 'epoch': 1731335580, 'high': 1033.77, 'low': 1032.35, 'open': 1033.47}, {'close': 1033.86, 'epoch': 1731335640, 'high': 1035.11, 'low': 1033.49, 'open': 1033.57}, {'close': 1034.57, 'epoch': 1731335700, 'high': 1035, 'low': 1032.94, 'open': 1033.89}, {'close': 1034.59, 'epoch': 1731335760, 'high': 1035.07, 'low': 1033.69, 'open': 1034.8}, {'close': 1032.86, 'epoch': 1731335820, 'high': 1034.7, 'low': 1032.47, 'open': 1034.48}, {'close': 1032.25, 'epoch': 1731335880, 'high': 1032.97, 'low': 1030.52, 'open': 1032.93}, {'close': 1032.6, 'epoch': 1731335940, 'high': 1032.76, 'low': 1031.3, 'open': 1032.12}, {'close': 1033.5, 'epoch': 1731336000, 'high': 1033.58, 'low': 1032.19, 'open': 1032.69}, {'close': 1034.78, 'epoch': 1731336060, 'high': 1035.72, 'low': 1032.9, 'open': 1033.43}, {'close': 1031.54, 'epoch': 1731336120, 'high': 1034.9, 'low': 1031.31, 'open': 1034.9}, {'close': 1030.05, 'epoch': 1731336180, 'high': 1031.97, 'low': 1030.05, 'open': 1031.54}, {'close': 1030.59, 'epoch': 1731336240, 'high': 1030.98, 'low': 1029.79, 'open': 1030.33}, {'close': 1032.31, 'epoch': 1731336300, 'high': 1032.46, 'low': 1029.97, 'open': 1030.32}, {'close': 1032.24, 'epoch': 1731336360, 'high': 1033.08, 'low': 1031.71, 'open': 1032.07}, {'close': 1031.23, 'epoch': 1731336420, 'high': 1032.53, 'low': 1030.65, 'open': 1032.53}, {'close': 1032.12, 'epoch': 1731336480, 'high': 1032.17, 'low': 1031.08, 'open': 1031.6}, {'close': 1031.96, 'epoch': 1731336540, 'high': 1032.74, 'low': 1031.33, 'open': 1032.74}, {'close': 1031.27, 'epoch': 1731336600, 'high': 1032.54, 'low': 1030.78, 'open': 1031.91}, {'close': 1031.81, 'epoch': 1731336660, 'high': 1032.07, 'low': 1030.6, 'open': 1030.97}, {'close': 1031.08, 'epoch': 1731336720, 'high': 1033, 'low': 1030.76, 'open': 1031.96}, {'close': 1032.34, 'epoch': 1731336780, 'high': 1032.34, 'low': 1030.99, 'open': 1030.99}, {'close': 1031.34, 'epoch': 1731336840, 'high': 1033.26, 'low': 1030.98, 'open': 1032.31}, {'close': 1030.93, 'epoch': 1731336900, 'high': 1032.12, 'low': 1030.6, 'open': 1031.23}, {'close': 1029.7, 'epoch': 1731336960, 'high': 1031.92, 'low': 1029.67, 'open': 1031.12}, {'close': 1029.13, 'epoch': 1731337020, 'high': 1030.51, 'low': 1028.95, 'open': 1029.85}, {'close': 1028.08, 'epoch': 1731337080, 'high': 1029.46, 'low': 1027.69, 'open': 1029.31}, {'close': 1026.34, 'epoch': 1731337140, 'high': 1029.22, 'low': 1026.34, 'open': 1028.39}, {'close': 1024.86, 'epoch': 1731337200, 'high': 1027.28, 'low': 1024.86, 'open': 1026.09}, {'close': 1023.62, 'epoch': 1731337260, 'high': 1024.83, 'low': 1023.62, 'open': 1024.64}, {'close': 1023.35, 'epoch': 1731337320, 'high': 1023.56, 'low': 1022.3, 'open': 1023.33}, {'close': 1022.57, 'epoch': 1731337380, 'high': 1023.52, 'low': 1021.92, 'open': 1023.09}, {'close': 1022.34, 'epoch': 1731337440, 'high': 1022.92, 'low': 1021.09, 'open': 1022.79}, {'close': 1022.67, 'epoch': 1731337500, 'high': 1022.81, 'low': 1021.54, 'open': 1022.43}, {'close': 1021.48, 'epoch': 1731337560, 'high': 1022.83, 'low': 1021.23, 'open': 1022.83}], 'echo_req': {'adjust_start_time': 1, 'count': 100, 'end': 'latest', 'granularity': 60, 'start': 1, 'style': 'candles', 'ticks_history': 'R_100'}, 'msg_type': 'candles', 'pip_size': 2}\n"
     ]
    },
    {
     "name": "stderr",
     "output_type": "stream",
     "text": [
      "++Sent raw: b'\\x81\\xfe\\x00\\xa83\\x1b\\xdcLH9\\xac>\\\\k\\xb3?Rw\\xfev\\x13*\\xf0l\\x11z\\xb1#Fu\\xa8n\\t;\\xed|\\x037\\xfcnQz\\xae>Z~\\xaen\\t;\\xfea\\x035\\xedn\\x1f;\\xfe.Rh\\xb5?\\x11!\\xfcnCz\\xa5#Fo\\xfe`\\x139\\xbf#]o\\xae-Po\\x838Jk\\xb9n\\t;\\xfe\\x1cfO\\xfe`\\x139\\xbf9Ai\\xb9\"Pb\\xfev\\x139\\x89\\x1fw9\\xf0l\\x11\\x7f\\xa9>Ro\\xb5#]9\\xe6l\\x05+\\xf0l\\x11\\x7f\\xa9>Ro\\xb5#]D\\xa9\"Zo\\xfev\\x139\\xafn\\x1f;\\xfe?Jv\\xbe#_9\\xe6l\\x11I\\x83}\\x03+\\xfe1'\n",
      "++Sent decoded: fin=1 opcode=1 data=b'{\"proposal\": 1, \"amount\": 100, \"barrier\": \"-0.1\", \"basis\": \"payout\", \"contract_type\": \"PUT\", \"currency\": \"USD\", \"duration\": 60, \"duration_unit\": \"s\", \"symbol\": \"R_100\"}'\n"
     ]
    },
    {
     "name": "stdout",
     "output_type": "stream",
     "text": [
      "Current signal: SELL\n"
     ]
    },
    {
     "name": "stderr",
     "output_type": "stream",
     "text": [
      "++Rcv raw: b'\\x81~\\x02\\x8e{\"echo_req\":{\"amount\":100,\"barrier\":\"-0.1\",\"basis\":\"payout\",\"contract_type\":\"PUT\",\"currency\":\"USD\",\"duration\":60,\"duration_unit\":\"s\",\"product_type\":\"basic\",\"proposal\":1,\"symbol\":\"R_100\"},\"msg_type\":\"proposal\",\"proposal\":{\"ask_price\":48.35,\"contract_details\":{\"barrier\":\"1021.32\"},\"date_expiry\":1731337644,\"date_start\":1731337584,\"display_value\":\"48.35\",\"id\":\"7ffc0505-63f7-4ccb-19d4-4998bd271f91\",\"longcode\":\"Win payout if Volatility 100 Index is strictly lower than entry spot minus 0.10 at 1 minute after contract start time.\",\"payout\":100,\"spot\":1021.42,\"spot_time\":1731337584,\"validation_params\":{\"payout\":{\"max\":\"50000.00\"},\"stake\":{\"min\":\"0.35\"}}}}'\n",
      "++Rcv decoded: fin=1 opcode=1 data=b'{\"echo_req\":{\"amount\":100,\"barrier\":\"-0.1\",\"basis\":\"payout\",\"contract_type\":\"PUT\",\"currency\":\"USD\",\"duration\":60,\"duration_unit\":\"s\",\"product_type\":\"basic\",\"proposal\":1,\"symbol\":\"R_100\"},\"msg_type\":\"proposal\",\"proposal\":{\"ask_price\":48.35,\"contract_details\":{\"barrier\":\"1021.32\"},\"date_expiry\":1731337644,\"date_start\":1731337584,\"display_value\":\"48.35\",\"id\":\"7ffc0505-63f7-4ccb-19d4-4998bd271f91\",\"longcode\":\"Win payout if Volatility 100 Index is strictly lower than entry spot minus 0.10 at 1 minute after contract start time.\",\"payout\":100,\"spot\":1021.42,\"spot_time\":1731337584,\"validation_params\":{\"payout\":{\"max\":\"50000.00\"},\"stake\":{\"min\":\"0.35\"}}}}'\n"
     ]
    },
    {
     "name": "stdout",
     "output_type": "stream",
     "text": [
      "Received data: {'echo_req': {'amount': 100, 'barrier': '-0.1', 'basis': 'payout', 'contract_type': 'PUT', 'currency': 'USD', 'duration': 60, 'duration_unit': 's', 'product_type': 'basic', 'proposal': 1, 'symbol': 'R_100'}, 'msg_type': 'proposal', 'proposal': {'ask_price': 48.35, 'contract_details': {'barrier': '1021.32'}, 'date_expiry': 1731337644, 'date_start': 1731337584, 'display_value': '48.35', 'id': '7ffc0505-63f7-4ccb-19d4-4998bd271f91', 'longcode': 'Win payout if Volatility 100 Index is strictly lower than entry spot minus 0.10 at 1 minute after contract start time.', 'payout': 100, 'spot': 1021.42, 'spot_time': 1731337584, 'validation_params': {'payout': {'max': '50000.00'}, 'stake': {'min': '0.35'}}}}\n"
     ]
    },
    {
     "name": "stderr",
     "output_type": "stream",
     "text": [
      "++Sent raw: b'\\x81\\xbd\\x03\\x15\\x04\\xe0x7f\\x95z7>\\xc0!\"b\\x86`%1\\xd0682\\xd3e\")\\xd4`vf\\xcd2,`\\xd4.!=\\xd9;w`\\xd24$b\\xd927(\\xc0!ev\\x89`p&\\xda#$4\\xd0~'\n",
      "++Sent decoded: fin=1 opcode=1 data=b'{\"buy\": \"7ffc0505-63f7-4ccb-19d4-4998bd271f91\", \"price\": 100}'\n"
     ]
    },
    {
     "name": "stdout",
     "output_type": "stream",
     "text": [
      "Executed SELL trade with proposal ID: 7ffc0505-63f7-4ccb-19d4-4998bd271f91\n"
     ]
    },
    {
     "name": "stderr",
     "output_type": "stream",
     "text": [
      "++Rcv raw: b'\\x81~\\x01\\xc4{\"buy\":{\"balance_after\":9820.34,\"buy_price\":48.35,\"contract_id\":262713894788,\"longcode\":\"Win payout if Volatility 100 Index is strictly lower than entry spot minus 0.10 at 1 minute after contract start time.\",\"payout\":100,\"purchase_time\":1731337585,\"shortcode\":\"PUT_R_100_100.00_1731337585_1731337645_S-10P_0\",\"start_time\":1731337585,\"transaction_id\":523741670728},\"echo_req\":{\"buy\":\"7ffc0505-63f7-4ccb-19d4-4998bd271f91\",\"price\":100},\"msg_type\":\"buy\"}'\n",
      "++Rcv decoded: fin=1 opcode=1 data=b'{\"buy\":{\"balance_after\":9820.34,\"buy_price\":48.35,\"contract_id\":262713894788,\"longcode\":\"Win payout if Volatility 100 Index is strictly lower than entry spot minus 0.10 at 1 minute after contract start time.\",\"payout\":100,\"purchase_time\":1731337585,\"shortcode\":\"PUT_R_100_100.00_1731337585_1731337645_S-10P_0\",\"start_time\":1731337585,\"transaction_id\":523741670728},\"echo_req\":{\"buy\":\"7ffc0505-63f7-4ccb-19d4-4998bd271f91\",\"price\":100},\"msg_type\":\"buy\"}'\n"
     ]
    },
    {
     "name": "stdout",
     "output_type": "stream",
     "text": [
      "Received data: {'buy': {'balance_after': 9820.34, 'buy_price': 48.35, 'contract_id': 262713894788, 'longcode': 'Win payout if Volatility 100 Index is strictly lower than entry spot minus 0.10 at 1 minute after contract start time.', 'payout': 100, 'purchase_time': 1731337585, 'shortcode': 'PUT_R_100_100.00_1731337585_1731337645_S-10P_0', 'start_time': 1731337585, 'transaction_id': 523741670728}, 'echo_req': {'buy': '7ffc0505-63f7-4ccb-19d4-4998bd271f91', 'price': 100}, 'msg_type': 'buy'}\n"
     ]
    },
    {
     "name": "stderr",
     "output_type": "stream",
     "text": [
      "++Sent raw: b\"\\x81\\xfe\\x00\\x84\\\\X\\xa7\\xe0'z\\xd3\\x89?3\\xd4\\xbf41\\xd4\\x943*\\xde\\xc2fx\\x85\\xb2\\x03i\\x97\\xd0~t\\x87\\xc2=<\\xcd\\x95/,\\xf8\\x93(9\\xd5\\x94\\x03,\\xce\\x8d9z\\x9d\\xc0mt\\x87\\xc2?7\\xd2\\x8e(z\\x9d\\xc0mh\\x97\\xcc|z\\xc2\\x8e8z\\x9d\\xc0~4\\xc6\\x949+\\xd3\\xc2px\\x85\\x93(9\\xd5\\x94~b\\x87\\xd1px\\x85\\x93(!\\xcb\\x85~b\\x87\\xc2?9\\xc9\\x840=\\xd4\\xc2px\\x85\\x87.9\\xc9\\x9509\\xd5\\x89(!\\x85\\xda|n\\x97\\x9d\"\n",
      "++Sent decoded: fin=1 opcode=1 data=b'{\"ticks_history\": \"R_100\", \"adjust_start_time\": 1, \"count\": 100, \"end\": \"latest\", \"start\": 1, \"style\": \"candles\", \"granularity\": 60}'\n",
      "++Rcv raw: b'\\x81~ \\x15{\"candles\":[{\"close\":1042.27,\"epoch\":1731331680,\"high\":1043.11,\"low\":1041.8,\"open\":1042.87},{\"close\":1038.73,\"epoch\":1731331740,\"high\":1042.45,\"low\":1038.73,\"open\":1042.27},{\"close\":1038.25,\"epoch\":1731331800,\"high\":1039.56,\"low\":1038.17,\"open\":1038.73},{\"close\":1040.42,\"epoch\":1731331860,\"high\":1040.46,\"low\":1037.7,\"open\":1038.51},{\"close\":1040.68,\"epoch\":1731331920,\"high\":1040.68,\"low\":1039.07,\"open\":1040.33},{\"close\":1040.35,\"epoch\":1731331980,\"high\":1040.81,\"low\":1039.29,\"open\":1040.27},{\"close\":1041.36,\"epoch\":1731332040,\"high\":1041.36,\"low\":1039.75,\"open\":1040.22},{\"close\":1041.73,\"epoch\":1731332100,\"high\":1042.38,\"low\":1040.48,\"open\":1041.51},{\"close\":1041.36,\"epoch\":1731332160,\"high\":1041.9,\"low\":1040.15,\"open\":1041.6},{\"close\":1043.1,\"epoch\":1731332220,\"high\":1043.6,\"low\":1041.8,\"open\":1041.9},{\"close\":1042.66,\"epoch\":1731332280,\"high\":1042.89,\"low\":1041.7,\"open\":1042.68},{\"close\":1043,\"epoch\":1731332340,\"high\":1043.2,\"low\":1042.5,\"open\":1042.64},{\"close\":1043.15,\"epoch\":1731332400,\"high\":1043.27,\"low\":1042.06,\"open\":1043.27},{\"close\":1042.92,\"epoch\":1731332460,\"high\":1043.78,\"low\":1042.44,\"open\":1043.4},{\"close\":1039.97,\"epoch\":1731332520,\"high\":1043.53,\"low\":1039.97,\"open\":1042.92},{\"close\":1038.48,\"epoch\":1731332580,\"high\":1040.69,\"low\":1037.9,\"open\":1040.21},{\"close\":1038.96,\"epoch\":1731332640,\"high\":1039.8,\"low\":1038.17,\"open\":1038.18},{\"close\":1037.84,\"epoch\":1731332700,\"high\":1039.31,\"low\":1036.87,\"open\":1038.86},{\"close\":1036.64,\"epoch\":1731332760,\"high\":1039.01,\"low\":1036.2,\"open\":1038.41},{\"close\":1035.36,\"epoch\":1731332820,\"high\":1036.75,\"low\":1034.48,\"open\":1036.75},{\"close\":1034.63,\"epoch\":1731332880,\"high\":1035.66,\"low\":1033.67,\"open\":1035.21},{\"close\":1036.47,\"epoch\":1731332940,\"high\":1036.58,\"low\":1033.64,\"open\":1034.22},{\"close\":1035.59,\"epoch\":1731333000,\"high\":1036.48,\"low\":1034.5,\"open\":1036.13},{\"close\":1033.08,\"epoch\":1731333060,\"high\":1035.6,\"low\":1033.08,\"open\":1035.3},{\"close\":1030.91,\"epoch\":1731333120,\"high\":1033.95,\"low\":1030.91,\"open\":1033.4},{\"close\":1032.27,\"epoch\":1731333180,\"high\":1032.74,\"low\":1031.24,\"open\":1031.24},{\"close\":1032.56,\"epoch\":1731333240,\"high\":1033.45,\"low\":1031.57,\"open\":1032.52},{\"close\":1032.46,\"epoch\":1731333300,\"high\":1034.04,\"low\":1032.46,\"open\":1032.67},{\"close\":1031.2,\"epoch\":1731333360,\"high\":1033.93,\"low\":1031.2,\"open\":1032.5},{\"close\":1033.51,\"epoch\":1731333420,\"high\":1033.51,\"low\":1031.09,\"open\":1031.38},{\"close\":1033.55,\"epoch\":1731333480,\"high\":1033.86,\"low\":1032.68,\"open\":1033.4},{\"close\":1034.68,\"epoch\":1731333540,\"high\":1035.19,\"low\":1033.55,\"open\":1033.55},{\"close\":1034.36,\"epoch\":1731333600,\"high\":1035.1,\"low\":1033.21,\"open\":1035.1},{\"close\":1035.38,\"epoch\":1731333660,\"high\":1035.62,\"low\":1033.91,\"open\":1034.25},{\"close\":1034.81,\"epoch\":1731333720,\"high\":1036.72,\"low\":1034.46,\"open\":1035.43},{\"close\":1035.4,\"epoch\":1731333780,\"high\":1035.81,\"low\":1034.18,\"open\":1034.77},{\"close\":1033.81,\"epoch\":1731333840,\"high\":1035.4,\"low\":1033.42,\"open\":1035.19},{\"close\":1032.78,\"epoch\":1731333900,\"high\":1034.2,\"low\":1032.49,\"open\":1033.93},{\"close\":1033.57,\"epoch\":1731333960,\"high\":1033.72,\"low\":1032.21,\"open\":1032.97},{\"close\":1032.92,\"epoch\":1731334020,\"high\":1034.4,\"low\":1032.39,\"open\":1033.62},{\"close\":1034.13,\"epoch\":1731334080,\"high\":1034.97,\"low\":1032.92,\"open\":1033.18},{\"close\":1034.04,\"epoch\":1731334140,\"high\":1034.39,\"low\":1033.32,\"open\":1034.16},{\"close\":1033.32,\"epoch\":1731334200,\"high\":1034.36,\"low\":1032.41,\"open\":1034.22},{\"close\":1032.65,\"epoch\":1731334260,\"high\":1034.64,\"low\":1032.65,\"open\":1033.4},{\"close\":1033.79,\"epoch\":1731334320,\"high\":1034.64,\"low\":1032.3,\"open\":1032.57},{\"close\":1034.59,\"epoch\":1731334380,\"high\":1035.01,\"low\":1033.98,\"open\":1033.98},{\"close\":1034.62,\"epoch\":1731334440,\"high\":1035.28,\"low\":1034,\"open\":1034.66},{\"close\":1034.04,\"epoch\":1731334500,\"high\":1034.58,\"low\":1032.85,\"open\":1034.37},{\"close\":1031.88,\"epoch\":1731334560,\"high\":1033.32,\"low\":1031.23,\"open\":1033.32},{\"close\":1031.85,\"epoch\":1731334620,\"high\":1032.59,\"low\":1031.01,\"open\":1031.96},{\"close\":1030.52,\"epoch\":1731334680,\"high\":1032.72,\"low\":1030.44,\"open\":1031.58},{\"close\":1031.54,\"epoch\":1731334740,\"high\":1031.65,\"low\":1029.86,\"open\":1030.44},{\"close\":1031,\"epoch\":1731334800,\"high\":1031.94,\"low\":1030.82,\"open\":1031.38},{\"close\":1029.95,\"epoch\":1731334860,\"high\":1031.11,\"low\":1029.54,\"open\":1030.7},{\"close\":1028.75,\"epoch\":1731334920,\"high\":1030.22,\"low\":1028.41,\"open\":1029.89},{\"close\":1028.67,\"epoch\":1731334980,\"high\":1028.94,\"low\":1027.6,\"open\":1028.63},{\"close\":1028.24,\"epoch\":1731335040,\"high\":1028.44,\"low\":1027.35,\"open\":1028.2},{\"close\":1028.91,\"epoch\":1731335100,\"high\":1028.93,\"low\":1027.02,\"open\":1027.86},{\"close\":1028.11,\"epoch\":1731335160,\"high\":1029.57,\"low\":1027.71,\"open\":1028.66},{\"close\":1028.14,\"epoch\":1731335220,\"high\":1030.32,\"low\":1027.54,\"open\":1027.92},{\"close\":1029.05,\"epoch\":1731335280,\"high\":1029.27,\"low\":1027.15,\"open\":1027.8},{\"close\":1027.94,\"epoch\":1731335340,\"high\":1028.92,\"low\":1027.87,\"open\":1028.88},{\"close\":1030.88,\"epoch\":1731335400,\"high\":1030.88,\"low\":1027.91,\"open\":1027.91},{\"close\":1034.94,\"epoch\":1731335460,\"high\":1035.27,\"low\":1030.62,\"open\":1030.62},{\"close\":1033.2,\"epoch\":1731335520,\"high\":1035.23,\"low\":1032.83,\"open\":1034.83},{\"close\":1033.58,\"epoch\":1731335580,\"high\":1033.77,\"low\":1032.35,\"open\":1033.47},{\"close\":1033.86,\"epoch\":1731335640,\"high\":1035.11,\"low\":1033.49,\"open\":1033.57},{\"close\":1034.57,\"epoch\":1731335700,\"high\":1035,\"low\":1032.94,\"open\":1033.89},{\"close\":1034.59,\"epoch\":1731335760,\"high\":1035.07,\"low\":1033.69,\"open\":1034.8},{\"close\":1032.86,\"epoch\":1731335820,\"high\":1034.7,\"low\":1032.47,\"open\":1034.48},{\"close\":1032.25,\"epoch\":1731335880,\"high\":1032.97,\"low\":1030.52,\"open\":1032.93},{\"close\":1032.6,\"epoch\":1731335940,\"high\":1032.76,\"low\":1031.3,\"open\":1032.12},{\"close\":1033.5,\"epoch\":1731336000,\"high\":1033.58,\"low\":1032.19,\"open\":1032.69},{\"close\":1034.78,\"epoch\":1731336060,\"high\":1035.72,\"low\":1032.9,\"open\":1033.43},{\"close\":1031.54,\"epoch\":1731336120,\"high\":1034.9,\"low\":1031.31,\"open\":1034.9},{\"close\":1030.05,\"epoch\":1731336180,\"high\":1031.97,\"low\":1030.05,\"open\":1031.54},{\"close\":1030.59,\"epoch\":1731336240,\"high\":1030.98,\"low\":1029.79,\"open\":1030.33},{\"close\":1032.31,\"epoch\":1731336300,\"high\":1032.46,\"low\":1029.97,\"open\":1030.32},{\"close\":1032.24,\"epoch\":1731336360,\"high\":1033.08,\"low\":1031.71,\"open\":1032.07},{\"close\":1031.23,\"epoch\":1731336420,\"high\":1032.53,\"low\":1030.65,\"open\":1032.53},{\"close\":1032.12,\"epoch\":1731336480,\"high\":1032.17,\"low\":1031.08,\"open\":1031.6},{\"close\":1031.96,\"epoch\":1731336540,\"high\":1032.74,\"low\":1031.33,\"open\":1032.74},{\"close\":1031.27,\"epoch\":1731336600,\"high\":1032.54,\"low\":1030.78,\"open\":1031.91},{\"close\":1031.81,\"epoch\":1731336660,\"high\":1032.07,\"low\":1030.6,\"open\":1030.97},{\"close\":1031.08,\"epoch\":1731336720,\"high\":1033,\"low\":1030.76,\"open\":1031.96},{\"close\":1032.34,\"epoch\":1731336780,\"high\":1032.34,\"low\":1030.99,\"open\":1030.99},{\"close\":1031.34,\"epoch\":1731336840,\"high\":1033.26,\"low\":1030.98,\"open\":1032.31},{\"close\":1030.93,\"epoch\":1731336900,\"high\":1032.12,\"low\":1030.6,\"open\":1031.23},{\"close\":1029.7,\"epoch\":1731336960,\"high\":1031.92,\"low\":1029.67,\"open\":1031.12},{\"close\":1029.13,\"epoch\":1731337020,\"high\":1030.51,\"low\":1028.95,\"open\":1029.85},{\"close\":1028.08,\"epoch\":1731337080,\"high\":1029.46,\"low\":1027.69,\"open\":1029.31},{\"close\":1026.34,\"epoch\":1731337140,\"high\":1029.22,\"low\":1026.34,\"open\":1028.39},{\"close\":1024.86,\"epoch\":1731337200,\"high\":1027.28,\"low\":1024.86,\"open\":1026.09},{\"close\":1023.62,\"epoch\":1731337260,\"high\":1024.83,\"low\":1023.62,\"open\":1024.64},{\"close\":1023.35,\"epoch\":1731337320,\"high\":1023.56,\"low\":1022.3,\"open\":1023.33},{\"close\":1022.57,\"epoch\":1731337380,\"high\":1023.52,\"low\":1021.92,\"open\":1023.09},{\"close\":1022.34,\"epoch\":1731337440,\"high\":1022.92,\"low\":1021.09,\"open\":1022.79},{\"close\":1022.67,\"epoch\":1731337500,\"high\":1022.81,\"low\":1021.54,\"open\":1022.43},{\"close\":1021.5,\"epoch\":1731337560,\"high\":1022.83,\"low\":1021.23,\"open\":1022.83},{\"close\":1020.93,\"epoch\":1731337620,\"high\":1020.93,\"low\":1020.05,\"open\":1020.83}],\"echo_req\":{\"adjust_start_time\":1,\"count\":100,\"end\":\"latest\",\"granularity\":60,\"start\":1,\"style\":\"candles\",\"ticks_history\":\"R_100\"},\"msg_type\":\"candles\",\"pip_size\":2}'\n",
      "++Rcv decoded: fin=1 opcode=1 data=b'{\"candles\":[{\"close\":1042.27,\"epoch\":1731331680,\"high\":1043.11,\"low\":1041.8,\"open\":1042.87},{\"close\":1038.73,\"epoch\":1731331740,\"high\":1042.45,\"low\":1038.73,\"open\":1042.27},{\"close\":1038.25,\"epoch\":1731331800,\"high\":1039.56,\"low\":1038.17,\"open\":1038.73},{\"close\":1040.42,\"epoch\":1731331860,\"high\":1040.46,\"low\":1037.7,\"open\":1038.51},{\"close\":1040.68,\"epoch\":1731331920,\"high\":1040.68,\"low\":1039.07,\"open\":1040.33},{\"close\":1040.35,\"epoch\":1731331980,\"high\":1040.81,\"low\":1039.29,\"open\":1040.27},{\"close\":1041.36,\"epoch\":1731332040,\"high\":1041.36,\"low\":1039.75,\"open\":1040.22},{\"close\":1041.73,\"epoch\":1731332100,\"high\":1042.38,\"low\":1040.48,\"open\":1041.51},{\"close\":1041.36,\"epoch\":1731332160,\"high\":1041.9,\"low\":1040.15,\"open\":1041.6},{\"close\":1043.1,\"epoch\":1731332220,\"high\":1043.6,\"low\":1041.8,\"open\":1041.9},{\"close\":1042.66,\"epoch\":1731332280,\"high\":1042.89,\"low\":1041.7,\"open\":1042.68},{\"close\":1043,\"epoch\":1731332340,\"high\":1043.2,\"low\":1042.5,\"open\":1042.64},{\"close\":1043.15,\"epoch\":1731332400,\"high\":1043.27,\"low\":1042.06,\"open\":1043.27},{\"close\":1042.92,\"epoch\":1731332460,\"high\":1043.78,\"low\":1042.44,\"open\":1043.4},{\"close\":1039.97,\"epoch\":1731332520,\"high\":1043.53,\"low\":1039.97,\"open\":1042.92},{\"close\":1038.48,\"epoch\":1731332580,\"high\":1040.69,\"low\":1037.9,\"open\":1040.21},{\"close\":1038.96,\"epoch\":1731332640,\"high\":1039.8,\"low\":1038.17,\"open\":1038.18},{\"close\":1037.84,\"epoch\":1731332700,\"high\":1039.31,\"low\":1036.87,\"open\":1038.86},{\"close\":1036.64,\"epoch\":1731332760,\"high\":1039.01,\"low\":1036.2,\"open\":1038.41},{\"close\":1035.36,\"epoch\":1731332820,\"high\":1036.75,\"low\":1034.48,\"open\":1036.75},{\"close\":1034.63,\"epoch\":1731332880,\"high\":1035.66,\"low\":1033.67,\"open\":1035.21},{\"close\":1036.47,\"epoch\":1731332940,\"high\":1036.58,\"low\":1033.64,\"open\":1034.22},{\"close\":1035.59,\"epoch\":1731333000,\"high\":1036.48,\"low\":1034.5,\"open\":1036.13},{\"close\":1033.08,\"epoch\":1731333060,\"high\":1035.6,\"low\":1033.08,\"open\":1035.3},{\"close\":1030.91,\"epoch\":1731333120,\"high\":1033.95,\"low\":1030.91,\"open\":1033.4},{\"close\":1032.27,\"epoch\":1731333180,\"high\":1032.74,\"low\":1031.24,\"open\":1031.24},{\"close\":1032.56,\"epoch\":1731333240,\"high\":1033.45,\"low\":1031.57,\"open\":1032.52},{\"close\":1032.46,\"epoch\":1731333300,\"high\":1034.04,\"low\":1032.46,\"open\":1032.67},{\"close\":1031.2,\"epoch\":1731333360,\"high\":1033.93,\"low\":1031.2,\"open\":1032.5},{\"close\":1033.51,\"epoch\":1731333420,\"high\":1033.51,\"low\":1031.09,\"open\":1031.38},{\"close\":1033.55,\"epoch\":1731333480,\"high\":1033.86,\"low\":1032.68,\"open\":1033.4},{\"close\":1034.68,\"epoch\":1731333540,\"high\":1035.19,\"low\":1033.55,\"open\":1033.55},{\"close\":1034.36,\"epoch\":1731333600,\"high\":1035.1,\"low\":1033.21,\"open\":1035.1},{\"close\":1035.38,\"epoch\":1731333660,\"high\":1035.62,\"low\":1033.91,\"open\":1034.25},{\"close\":1034.81,\"epoch\":1731333720,\"high\":1036.72,\"low\":1034.46,\"open\":1035.43},{\"close\":1035.4,\"epoch\":1731333780,\"high\":1035.81,\"low\":1034.18,\"open\":1034.77},{\"close\":1033.81,\"epoch\":1731333840,\"high\":1035.4,\"low\":1033.42,\"open\":1035.19},{\"close\":1032.78,\"epoch\":1731333900,\"high\":1034.2,\"low\":1032.49,\"open\":1033.93},{\"close\":1033.57,\"epoch\":1731333960,\"high\":1033.72,\"low\":1032.21,\"open\":1032.97},{\"close\":1032.92,\"epoch\":1731334020,\"high\":1034.4,\"low\":1032.39,\"open\":1033.62},{\"close\":1034.13,\"epoch\":1731334080,\"high\":1034.97,\"low\":1032.92,\"open\":1033.18},{\"close\":1034.04,\"epoch\":1731334140,\"high\":1034.39,\"low\":1033.32,\"open\":1034.16},{\"close\":1033.32,\"epoch\":1731334200,\"high\":1034.36,\"low\":1032.41,\"open\":1034.22},{\"close\":1032.65,\"epoch\":1731334260,\"high\":1034.64,\"low\":1032.65,\"open\":1033.4},{\"close\":1033.79,\"epoch\":1731334320,\"high\":1034.64,\"low\":1032.3,\"open\":1032.57},{\"close\":1034.59,\"epoch\":1731334380,\"high\":1035.01,\"low\":1033.98,\"open\":1033.98},{\"close\":1034.62,\"epoch\":1731334440,\"high\":1035.28,\"low\":1034,\"open\":1034.66},{\"close\":1034.04,\"epoch\":1731334500,\"high\":1034.58,\"low\":1032.85,\"open\":1034.37},{\"close\":1031.88,\"epoch\":1731334560,\"high\":1033.32,\"low\":1031.23,\"open\":1033.32},{\"close\":1031.85,\"epoch\":1731334620,\"high\":1032.59,\"low\":1031.01,\"open\":1031.96},{\"close\":1030.52,\"epoch\":1731334680,\"high\":1032.72,\"low\":1030.44,\"open\":1031.58},{\"close\":1031.54,\"epoch\":1731334740,\"high\":1031.65,\"low\":1029.86,\"open\":1030.44},{\"close\":1031,\"epoch\":1731334800,\"high\":1031.94,\"low\":1030.82,\"open\":1031.38},{\"close\":1029.95,\"epoch\":1731334860,\"high\":1031.11,\"low\":1029.54,\"open\":1030.7},{\"close\":1028.75,\"epoch\":1731334920,\"high\":1030.22,\"low\":1028.41,\"open\":1029.89},{\"close\":1028.67,\"epoch\":1731334980,\"high\":1028.94,\"low\":1027.6,\"open\":1028.63},{\"close\":1028.24,\"epoch\":1731335040,\"high\":1028.44,\"low\":1027.35,\"open\":1028.2},{\"close\":1028.91,\"epoch\":1731335100,\"high\":1028.93,\"low\":1027.02,\"open\":1027.86},{\"close\":1028.11,\"epoch\":1731335160,\"high\":1029.57,\"low\":1027.71,\"open\":1028.66},{\"close\":1028.14,\"epoch\":1731335220,\"high\":1030.32,\"low\":1027.54,\"open\":1027.92},{\"close\":1029.05,\"epoch\":1731335280,\"high\":1029.27,\"low\":1027.15,\"open\":1027.8},{\"close\":1027.94,\"epoch\":1731335340,\"high\":1028.92,\"low\":1027.87,\"open\":1028.88},{\"close\":1030.88,\"epoch\":1731335400,\"high\":1030.88,\"low\":1027.91,\"open\":1027.91},{\"close\":1034.94,\"epoch\":1731335460,\"high\":1035.27,\"low\":1030.62,\"open\":1030.62},{\"close\":1033.2,\"epoch\":1731335520,\"high\":1035.23,\"low\":1032.83,\"open\":1034.83},{\"close\":1033.58,\"epoch\":1731335580,\"high\":1033.77,\"low\":1032.35,\"open\":1033.47},{\"close\":1033.86,\"epoch\":1731335640,\"high\":1035.11,\"low\":1033.49,\"open\":1033.57},{\"close\":1034.57,\"epoch\":1731335700,\"high\":1035,\"low\":1032.94,\"open\":1033.89},{\"close\":1034.59,\"epoch\":1731335760,\"high\":1035.07,\"low\":1033.69,\"open\":1034.8},{\"close\":1032.86,\"epoch\":1731335820,\"high\":1034.7,\"low\":1032.47,\"open\":1034.48},{\"close\":1032.25,\"epoch\":1731335880,\"high\":1032.97,\"low\":1030.52,\"open\":1032.93},{\"close\":1032.6,\"epoch\":1731335940,\"high\":1032.76,\"low\":1031.3,\"open\":1032.12},{\"close\":1033.5,\"epoch\":1731336000,\"high\":1033.58,\"low\":1032.19,\"open\":1032.69},{\"close\":1034.78,\"epoch\":1731336060,\"high\":1035.72,\"low\":1032.9,\"open\":1033.43},{\"close\":1031.54,\"epoch\":1731336120,\"high\":1034.9,\"low\":1031.31,\"open\":1034.9},{\"close\":1030.05,\"epoch\":1731336180,\"high\":1031.97,\"low\":1030.05,\"open\":1031.54},{\"close\":1030.59,\"epoch\":1731336240,\"high\":1030.98,\"low\":1029.79,\"open\":1030.33},{\"close\":1032.31,\"epoch\":1731336300,\"high\":1032.46,\"low\":1029.97,\"open\":1030.32},{\"close\":1032.24,\"epoch\":1731336360,\"high\":1033.08,\"low\":1031.71,\"open\":1032.07},{\"close\":1031.23,\"epoch\":1731336420,\"high\":1032.53,\"low\":1030.65,\"open\":1032.53},{\"close\":1032.12,\"epoch\":1731336480,\"high\":1032.17,\"low\":1031.08,\"open\":1031.6},{\"close\":1031.96,\"epoch\":1731336540,\"high\":1032.74,\"low\":1031.33,\"open\":1032.74},{\"close\":1031.27,\"epoch\":1731336600,\"high\":1032.54,\"low\":1030.78,\"open\":1031.91},{\"close\":1031.81,\"epoch\":1731336660,\"high\":1032.07,\"low\":1030.6,\"open\":1030.97},{\"close\":1031.08,\"epoch\":1731336720,\"high\":1033,\"low\":1030.76,\"open\":1031.96},{\"close\":1032.34,\"epoch\":1731336780,\"high\":1032.34,\"low\":1030.99,\"open\":1030.99},{\"close\":1031.34,\"epoch\":1731336840,\"high\":1033.26,\"low\":1030.98,\"open\":1032.31},{\"close\":1030.93,\"epoch\":1731336900,\"high\":1032.12,\"low\":1030.6,\"open\":1031.23},{\"close\":1029.7,\"epoch\":1731336960,\"high\":1031.92,\"low\":1029.67,\"open\":1031.12},{\"close\":1029.13,\"epoch\":1731337020,\"high\":1030.51,\"low\":1028.95,\"open\":1029.85},{\"close\":1028.08,\"epoch\":1731337080,\"high\":1029.46,\"low\":1027.69,\"open\":1029.31},{\"close\":1026.34,\"epoch\":1731337140,\"high\":1029.22,\"low\":1026.34,\"open\":1028.39},{\"close\":1024.86,\"epoch\":1731337200,\"high\":1027.28,\"low\":1024.86,\"open\":1026.09},{\"close\":1023.62,\"epoch\":1731337260,\"high\":1024.83,\"low\":1023.62,\"open\":1024.64},{\"close\":1023.35,\"epoch\":1731337320,\"high\":1023.56,\"low\":1022.3,\"open\":1023.33},{\"close\":1022.57,\"epoch\":1731337380,\"high\":1023.52,\"low\":1021.92,\"open\":1023.09},{\"close\":1022.34,\"epoch\":1731337440,\"high\":1022.92,\"low\":1021.09,\"open\":1022.79},{\"close\":1022.67,\"epoch\":1731337500,\"high\":1022.81,\"low\":1021.54,\"open\":1022.43},{\"close\":1021.5,\"epoch\":1731337560,\"high\":1022.83,\"low\":1021.23,\"open\":1022.83},{\"close\":1020.93,\"epoch\":1731337620,\"high\":1020.93,\"low\":1020.05,\"open\":1020.83}],\"echo_req\":{\"adjust_start_time\":1,\"count\":100,\"end\":\"latest\",\"granularity\":60,\"start\":1,\"style\":\"candles\",\"ticks_history\":\"R_100\"},\"msg_type\":\"candles\",\"pip_size\":2}'\n"
     ]
    },
    {
     "name": "stdout",
     "output_type": "stream",
     "text": [
      "Received data: {'candles': [{'close': 1042.27, 'epoch': 1731331680, 'high': 1043.11, 'low': 1041.8, 'open': 1042.87}, {'close': 1038.73, 'epoch': 1731331740, 'high': 1042.45, 'low': 1038.73, 'open': 1042.27}, {'close': 1038.25, 'epoch': 1731331800, 'high': 1039.56, 'low': 1038.17, 'open': 1038.73}, {'close': 1040.42, 'epoch': 1731331860, 'high': 1040.46, 'low': 1037.7, 'open': 1038.51}, {'close': 1040.68, 'epoch': 1731331920, 'high': 1040.68, 'low': 1039.07, 'open': 1040.33}, {'close': 1040.35, 'epoch': 1731331980, 'high': 1040.81, 'low': 1039.29, 'open': 1040.27}, {'close': 1041.36, 'epoch': 1731332040, 'high': 1041.36, 'low': 1039.75, 'open': 1040.22}, {'close': 1041.73, 'epoch': 1731332100, 'high': 1042.38, 'low': 1040.48, 'open': 1041.51}, {'close': 1041.36, 'epoch': 1731332160, 'high': 1041.9, 'low': 1040.15, 'open': 1041.6}, {'close': 1043.1, 'epoch': 1731332220, 'high': 1043.6, 'low': 1041.8, 'open': 1041.9}, {'close': 1042.66, 'epoch': 1731332280, 'high': 1042.89, 'low': 1041.7, 'open': 1042.68}, {'close': 1043, 'epoch': 1731332340, 'high': 1043.2, 'low': 1042.5, 'open': 1042.64}, {'close': 1043.15, 'epoch': 1731332400, 'high': 1043.27, 'low': 1042.06, 'open': 1043.27}, {'close': 1042.92, 'epoch': 1731332460, 'high': 1043.78, 'low': 1042.44, 'open': 1043.4}, {'close': 1039.97, 'epoch': 1731332520, 'high': 1043.53, 'low': 1039.97, 'open': 1042.92}, {'close': 1038.48, 'epoch': 1731332580, 'high': 1040.69, 'low': 1037.9, 'open': 1040.21}, {'close': 1038.96, 'epoch': 1731332640, 'high': 1039.8, 'low': 1038.17, 'open': 1038.18}, {'close': 1037.84, 'epoch': 1731332700, 'high': 1039.31, 'low': 1036.87, 'open': 1038.86}, {'close': 1036.64, 'epoch': 1731332760, 'high': 1039.01, 'low': 1036.2, 'open': 1038.41}, {'close': 1035.36, 'epoch': 1731332820, 'high': 1036.75, 'low': 1034.48, 'open': 1036.75}, {'close': 1034.63, 'epoch': 1731332880, 'high': 1035.66, 'low': 1033.67, 'open': 1035.21}, {'close': 1036.47, 'epoch': 1731332940, 'high': 1036.58, 'low': 1033.64, 'open': 1034.22}, {'close': 1035.59, 'epoch': 1731333000, 'high': 1036.48, 'low': 1034.5, 'open': 1036.13}, {'close': 1033.08, 'epoch': 1731333060, 'high': 1035.6, 'low': 1033.08, 'open': 1035.3}, {'close': 1030.91, 'epoch': 1731333120, 'high': 1033.95, 'low': 1030.91, 'open': 1033.4}, {'close': 1032.27, 'epoch': 1731333180, 'high': 1032.74, 'low': 1031.24, 'open': 1031.24}, {'close': 1032.56, 'epoch': 1731333240, 'high': 1033.45, 'low': 1031.57, 'open': 1032.52}, {'close': 1032.46, 'epoch': 1731333300, 'high': 1034.04, 'low': 1032.46, 'open': 1032.67}, {'close': 1031.2, 'epoch': 1731333360, 'high': 1033.93, 'low': 1031.2, 'open': 1032.5}, {'close': 1033.51, 'epoch': 1731333420, 'high': 1033.51, 'low': 1031.09, 'open': 1031.38}, {'close': 1033.55, 'epoch': 1731333480, 'high': 1033.86, 'low': 1032.68, 'open': 1033.4}, {'close': 1034.68, 'epoch': 1731333540, 'high': 1035.19, 'low': 1033.55, 'open': 1033.55}, {'close': 1034.36, 'epoch': 1731333600, 'high': 1035.1, 'low': 1033.21, 'open': 1035.1}, {'close': 1035.38, 'epoch': 1731333660, 'high': 1035.62, 'low': 1033.91, 'open': 1034.25}, {'close': 1034.81, 'epoch': 1731333720, 'high': 1036.72, 'low': 1034.46, 'open': 1035.43}, {'close': 1035.4, 'epoch': 1731333780, 'high': 1035.81, 'low': 1034.18, 'open': 1034.77}, {'close': 1033.81, 'epoch': 1731333840, 'high': 1035.4, 'low': 1033.42, 'open': 1035.19}, {'close': 1032.78, 'epoch': 1731333900, 'high': 1034.2, 'low': 1032.49, 'open': 1033.93}, {'close': 1033.57, 'epoch': 1731333960, 'high': 1033.72, 'low': 1032.21, 'open': 1032.97}, {'close': 1032.92, 'epoch': 1731334020, 'high': 1034.4, 'low': 1032.39, 'open': 1033.62}, {'close': 1034.13, 'epoch': 1731334080, 'high': 1034.97, 'low': 1032.92, 'open': 1033.18}, {'close': 1034.04, 'epoch': 1731334140, 'high': 1034.39, 'low': 1033.32, 'open': 1034.16}, {'close': 1033.32, 'epoch': 1731334200, 'high': 1034.36, 'low': 1032.41, 'open': 1034.22}, {'close': 1032.65, 'epoch': 1731334260, 'high': 1034.64, 'low': 1032.65, 'open': 1033.4}, {'close': 1033.79, 'epoch': 1731334320, 'high': 1034.64, 'low': 1032.3, 'open': 1032.57}, {'close': 1034.59, 'epoch': 1731334380, 'high': 1035.01, 'low': 1033.98, 'open': 1033.98}, {'close': 1034.62, 'epoch': 1731334440, 'high': 1035.28, 'low': 1034, 'open': 1034.66}, {'close': 1034.04, 'epoch': 1731334500, 'high': 1034.58, 'low': 1032.85, 'open': 1034.37}, {'close': 1031.88, 'epoch': 1731334560, 'high': 1033.32, 'low': 1031.23, 'open': 1033.32}, {'close': 1031.85, 'epoch': 1731334620, 'high': 1032.59, 'low': 1031.01, 'open': 1031.96}, {'close': 1030.52, 'epoch': 1731334680, 'high': 1032.72, 'low': 1030.44, 'open': 1031.58}, {'close': 1031.54, 'epoch': 1731334740, 'high': 1031.65, 'low': 1029.86, 'open': 1030.44}, {'close': 1031, 'epoch': 1731334800, 'high': 1031.94, 'low': 1030.82, 'open': 1031.38}, {'close': 1029.95, 'epoch': 1731334860, 'high': 1031.11, 'low': 1029.54, 'open': 1030.7}, {'close': 1028.75, 'epoch': 1731334920, 'high': 1030.22, 'low': 1028.41, 'open': 1029.89}, {'close': 1028.67, 'epoch': 1731334980, 'high': 1028.94, 'low': 1027.6, 'open': 1028.63}, {'close': 1028.24, 'epoch': 1731335040, 'high': 1028.44, 'low': 1027.35, 'open': 1028.2}, {'close': 1028.91, 'epoch': 1731335100, 'high': 1028.93, 'low': 1027.02, 'open': 1027.86}, {'close': 1028.11, 'epoch': 1731335160, 'high': 1029.57, 'low': 1027.71, 'open': 1028.66}, {'close': 1028.14, 'epoch': 1731335220, 'high': 1030.32, 'low': 1027.54, 'open': 1027.92}, {'close': 1029.05, 'epoch': 1731335280, 'high': 1029.27, 'low': 1027.15, 'open': 1027.8}, {'close': 1027.94, 'epoch': 1731335340, 'high': 1028.92, 'low': 1027.87, 'open': 1028.88}, {'close': 1030.88, 'epoch': 1731335400, 'high': 1030.88, 'low': 1027.91, 'open': 1027.91}, {'close': 1034.94, 'epoch': 1731335460, 'high': 1035.27, 'low': 1030.62, 'open': 1030.62}, {'close': 1033.2, 'epoch': 1731335520, 'high': 1035.23, 'low': 1032.83, 'open': 1034.83}, {'close': 1033.58, 'epoch': 1731335580, 'high': 1033.77, 'low': 1032.35, 'open': 1033.47}, {'close': 1033.86, 'epoch': 1731335640, 'high': 1035.11, 'low': 1033.49, 'open': 1033.57}, {'close': 1034.57, 'epoch': 1731335700, 'high': 1035, 'low': 1032.94, 'open': 1033.89}, {'close': 1034.59, 'epoch': 1731335760, 'high': 1035.07, 'low': 1033.69, 'open': 1034.8}, {'close': 1032.86, 'epoch': 1731335820, 'high': 1034.7, 'low': 1032.47, 'open': 1034.48}, {'close': 1032.25, 'epoch': 1731335880, 'high': 1032.97, 'low': 1030.52, 'open': 1032.93}, {'close': 1032.6, 'epoch': 1731335940, 'high': 1032.76, 'low': 1031.3, 'open': 1032.12}, {'close': 1033.5, 'epoch': 1731336000, 'high': 1033.58, 'low': 1032.19, 'open': 1032.69}, {'close': 1034.78, 'epoch': 1731336060, 'high': 1035.72, 'low': 1032.9, 'open': 1033.43}, {'close': 1031.54, 'epoch': 1731336120, 'high': 1034.9, 'low': 1031.31, 'open': 1034.9}, {'close': 1030.05, 'epoch': 1731336180, 'high': 1031.97, 'low': 1030.05, 'open': 1031.54}, {'close': 1030.59, 'epoch': 1731336240, 'high': 1030.98, 'low': 1029.79, 'open': 1030.33}, {'close': 1032.31, 'epoch': 1731336300, 'high': 1032.46, 'low': 1029.97, 'open': 1030.32}, {'close': 1032.24, 'epoch': 1731336360, 'high': 1033.08, 'low': 1031.71, 'open': 1032.07}, {'close': 1031.23, 'epoch': 1731336420, 'high': 1032.53, 'low': 1030.65, 'open': 1032.53}, {'close': 1032.12, 'epoch': 1731336480, 'high': 1032.17, 'low': 1031.08, 'open': 1031.6}, {'close': 1031.96, 'epoch': 1731336540, 'high': 1032.74, 'low': 1031.33, 'open': 1032.74}, {'close': 1031.27, 'epoch': 1731336600, 'high': 1032.54, 'low': 1030.78, 'open': 1031.91}, {'close': 1031.81, 'epoch': 1731336660, 'high': 1032.07, 'low': 1030.6, 'open': 1030.97}, {'close': 1031.08, 'epoch': 1731336720, 'high': 1033, 'low': 1030.76, 'open': 1031.96}, {'close': 1032.34, 'epoch': 1731336780, 'high': 1032.34, 'low': 1030.99, 'open': 1030.99}, {'close': 1031.34, 'epoch': 1731336840, 'high': 1033.26, 'low': 1030.98, 'open': 1032.31}, {'close': 1030.93, 'epoch': 1731336900, 'high': 1032.12, 'low': 1030.6, 'open': 1031.23}, {'close': 1029.7, 'epoch': 1731336960, 'high': 1031.92, 'low': 1029.67, 'open': 1031.12}, {'close': 1029.13, 'epoch': 1731337020, 'high': 1030.51, 'low': 1028.95, 'open': 1029.85}, {'close': 1028.08, 'epoch': 1731337080, 'high': 1029.46, 'low': 1027.69, 'open': 1029.31}, {'close': 1026.34, 'epoch': 1731337140, 'high': 1029.22, 'low': 1026.34, 'open': 1028.39}, {'close': 1024.86, 'epoch': 1731337200, 'high': 1027.28, 'low': 1024.86, 'open': 1026.09}, {'close': 1023.62, 'epoch': 1731337260, 'high': 1024.83, 'low': 1023.62, 'open': 1024.64}, {'close': 1023.35, 'epoch': 1731337320, 'high': 1023.56, 'low': 1022.3, 'open': 1023.33}, {'close': 1022.57, 'epoch': 1731337380, 'high': 1023.52, 'low': 1021.92, 'open': 1023.09}, {'close': 1022.34, 'epoch': 1731337440, 'high': 1022.92, 'low': 1021.09, 'open': 1022.79}, {'close': 1022.67, 'epoch': 1731337500, 'high': 1022.81, 'low': 1021.54, 'open': 1022.43}, {'close': 1021.5, 'epoch': 1731337560, 'high': 1022.83, 'low': 1021.23, 'open': 1022.83}, {'close': 1020.93, 'epoch': 1731337620, 'high': 1020.93, 'low': 1020.05, 'open': 1020.83}], 'echo_req': {'adjust_start_time': 1, 'count': 100, 'end': 'latest', 'granularity': 60, 'start': 1, 'style': 'candles', 'ticks_history': 'R_100'}, 'msg_type': 'candles', 'pip_size': 2}\n"
     ]
    },
    {
     "name": "stderr",
     "output_type": "stream",
     "text": [
      "++Sent raw: b'\\x81\\xfe\\x00\\xa8\\xc6[\\xb4\\xe4\\xbdy\\xc4\\x96\\xa9+\\xdb\\x97\\xa77\\x96\\xde\\xe6j\\x98\\xc4\\xe4:\\xd9\\x8b\\xb35\\xc0\\xc6\\xfc{\\x85\\xd4\\xf6w\\x94\\xc6\\xa4:\\xc6\\x96\\xaf>\\xc6\\xc6\\xfc{\\x96\\xc9\\xf6u\\x85\\xc6\\xea{\\x96\\x86\\xa7(\\xdd\\x97\\xe4a\\x94\\xc6\\xb6:\\xcd\\x8b\\xb3/\\x96\\xc8\\xe6y\\xd7\\x8b\\xa8/\\xc6\\x85\\xa5/\\xeb\\x90\\xbf+\\xd1\\xc6\\xfc{\\x96\\xb4\\x93\\x0f\\x96\\xc8\\xe6y\\xd7\\x91\\xb4)\\xd1\\x8a\\xa5\"\\x96\\xde\\xe6y\\xe1\\xb7\\x82y\\x98\\xc4\\xe4?\\xc1\\x96\\xa7/\\xdd\\x8b\\xa8y\\x8e\\xc4\\xf0k\\x98\\xc4\\xe4?\\xc1\\x96\\xa7/\\xdd\\x8b\\xa8\\x04\\xc1\\x8a\\xaf/\\x96\\xde\\xe6y\\xc7\\xc6\\xea{\\x96\\x97\\xbf6\\xd6\\x8b\\xaay\\x8e\\xc4\\xe4\\t\\xeb\\xd5\\xf6k\\x96\\x99'\n",
      "++Sent decoded: fin=1 opcode=1 data=b'{\"proposal\": 1, \"amount\": 100, \"barrier\": \"-0.1\", \"basis\": \"payout\", \"contract_type\": \"PUT\", \"currency\": \"USD\", \"duration\": 60, \"duration_unit\": \"s\", \"symbol\": \"R_100\"}'\n"
     ]
    },
    {
     "name": "stdout",
     "output_type": "stream",
     "text": [
      "Current signal: SELL\n"
     ]
    },
    {
     "name": "stderr",
     "output_type": "stream",
     "text": [
      "++Rcv raw: b'\\x81~\\x02\\x8e{\"echo_req\":{\"amount\":100,\"barrier\":\"-0.1\",\"basis\":\"payout\",\"contract_type\":\"PUT\",\"currency\":\"USD\",\"duration\":60,\"duration_unit\":\"s\",\"product_type\":\"basic\",\"proposal\":1,\"symbol\":\"R_100\"},\"msg_type\":\"proposal\",\"proposal\":{\"ask_price\":48.35,\"contract_details\":{\"barrier\":\"1021.05\"},\"date_expiry\":1731337706,\"date_start\":1731337646,\"display_value\":\"48.35\",\"id\":\"fc3bb338-a39e-decd-d63c-846c8c40e41c\",\"longcode\":\"Win payout if Volatility 100 Index is strictly lower than entry spot minus 0.10 at 1 minute after contract start time.\",\"payout\":100,\"spot\":1021.15,\"spot_time\":1731337646,\"validation_params\":{\"payout\":{\"max\":\"50000.00\"},\"stake\":{\"min\":\"0.35\"}}}}'\n",
      "++Rcv decoded: fin=1 opcode=1 data=b'{\"echo_req\":{\"amount\":100,\"barrier\":\"-0.1\",\"basis\":\"payout\",\"contract_type\":\"PUT\",\"currency\":\"USD\",\"duration\":60,\"duration_unit\":\"s\",\"product_type\":\"basic\",\"proposal\":1,\"symbol\":\"R_100\"},\"msg_type\":\"proposal\",\"proposal\":{\"ask_price\":48.35,\"contract_details\":{\"barrier\":\"1021.05\"},\"date_expiry\":1731337706,\"date_start\":1731337646,\"display_value\":\"48.35\",\"id\":\"fc3bb338-a39e-decd-d63c-846c8c40e41c\",\"longcode\":\"Win payout if Volatility 100 Index is strictly lower than entry spot minus 0.10 at 1 minute after contract start time.\",\"payout\":100,\"spot\":1021.15,\"spot_time\":1731337646,\"validation_params\":{\"payout\":{\"max\":\"50000.00\"},\"stake\":{\"min\":\"0.35\"}}}}'\n"
     ]
    },
    {
     "name": "stdout",
     "output_type": "stream",
     "text": [
      "Received data: {'echo_req': {'amount': 100, 'barrier': '-0.1', 'basis': 'payout', 'contract_type': 'PUT', 'currency': 'USD', 'duration': 60, 'duration_unit': 's', 'product_type': 'basic', 'proposal': 1, 'symbol': 'R_100'}, 'msg_type': 'proposal', 'proposal': {'ask_price': 48.35, 'contract_details': {'barrier': '1021.05'}, 'date_expiry': 1731337706, 'date_start': 1731337646, 'display_value': '48.35', 'id': 'fc3bb338-a39e-decd-d63c-846c8c40e41c', 'longcode': 'Win payout if Volatility 100 Index is strictly lower than entry spot minus 0.10 at 1 minute after contract start time.', 'payout': 100, 'spot': 1021.15, 'spot_time': 1731337646, 'validation_params': {'payout': {'max': '50000.00'}, 'stake': {'min': '0.35'}}}}\n"
     ]
    },
    {
     "ename": "CancelledError",
     "evalue": "",
     "output_type": "error",
     "traceback": [
      "\u001b[1;31m---------------------------------------------------------------------------\u001b[0m",
      "\u001b[1;31mCancelledError\u001b[0m                            Traceback (most recent call last)",
      "Cell \u001b[1;32mIn[1], line 195\u001b[0m\n\u001b[0;32m    192\u001b[0m         time\u001b[38;5;241m.\u001b[39msleep(\u001b[38;5;241m60\u001b[39m)\n\u001b[0;32m    194\u001b[0m \u001b[38;5;28;01mif\u001b[39;00m \u001b[38;5;18m__name__\u001b[39m \u001b[38;5;241m==\u001b[39m \u001b[38;5;124m\"\u001b[39m\u001b[38;5;124m__main__\u001b[39m\u001b[38;5;124m\"\u001b[39m:\n\u001b[1;32m--> 195\u001b[0m     \u001b[38;5;28;01mawait\u001b[39;00m (main())\n",
      "Cell \u001b[1;32mIn[1], line 188\u001b[0m, in \u001b[0;36mmain\u001b[1;34m()\u001b[0m\n\u001b[0;32m    185\u001b[0m     signal \u001b[38;5;241m=\u001b[39m trading_strategy(df)\n\u001b[0;32m    186\u001b[0m     \u001b[38;5;28mprint\u001b[39m(\u001b[38;5;124mf\u001b[39m\u001b[38;5;124m\"\u001b[39m\u001b[38;5;124mCurrent signal: \u001b[39m\u001b[38;5;132;01m{\u001b[39;00msignal\u001b[38;5;132;01m}\u001b[39;00m\u001b[38;5;124m\"\u001b[39m)\n\u001b[1;32m--> 188\u001b[0m     \u001b[38;5;28;01mawait\u001b[39;00m execute_trade(deriv_api, signal)\n\u001b[0;32m    189\u001b[0m \u001b[38;5;28;01melse\u001b[39;00m:\n\u001b[0;32m    190\u001b[0m     \u001b[38;5;28mprint\u001b[39m(\u001b[38;5;124m\"\u001b[39m\u001b[38;5;124mFailed to retrieve candle data\u001b[39m\u001b[38;5;124m\"\u001b[39m)\n",
      "Cell \u001b[1;32mIn[1], line 157\u001b[0m, in \u001b[0;36mexecute_trade\u001b[1;34m(api, signal)\u001b[0m\n\u001b[0;32m    151\u001b[0m     proposal \u001b[38;5;241m=\u001b[39m \u001b[38;5;28;01mawait\u001b[39;00m api\u001b[38;5;241m.\u001b[39mproposal({\n\u001b[0;32m    152\u001b[0m         \u001b[38;5;124m\"\u001b[39m\u001b[38;5;124mproposal\u001b[39m\u001b[38;5;124m\"\u001b[39m: \u001b[38;5;241m1\u001b[39m, \u001b[38;5;124m\"\u001b[39m\u001b[38;5;124mamount\u001b[39m\u001b[38;5;124m\"\u001b[39m: \u001b[38;5;241m100\u001b[39m, \u001b[38;5;124m\"\u001b[39m\u001b[38;5;124mbarrier\u001b[39m\u001b[38;5;124m\"\u001b[39m: \u001b[38;5;124m\"\u001b[39m\u001b[38;5;124m+0.1\u001b[39m\u001b[38;5;124m\"\u001b[39m, \u001b[38;5;124m\"\u001b[39m\u001b[38;5;124mbasis\u001b[39m\u001b[38;5;124m\"\u001b[39m: \u001b[38;5;124m\"\u001b[39m\u001b[38;5;124mpayout\u001b[39m\u001b[38;5;124m\"\u001b[39m,\n\u001b[0;32m    153\u001b[0m         \u001b[38;5;124m\"\u001b[39m\u001b[38;5;124mcontract_type\u001b[39m\u001b[38;5;124m\"\u001b[39m: \u001b[38;5;124m\"\u001b[39m\u001b[38;5;124mCALL\u001b[39m\u001b[38;5;124m\"\u001b[39m, \u001b[38;5;124m\"\u001b[39m\u001b[38;5;124mcurrency\u001b[39m\u001b[38;5;124m\"\u001b[39m: \u001b[38;5;124m\"\u001b[39m\u001b[38;5;124mUSD\u001b[39m\u001b[38;5;124m\"\u001b[39m, \u001b[38;5;124m\"\u001b[39m\u001b[38;5;124mduration\u001b[39m\u001b[38;5;124m\"\u001b[39m: \u001b[38;5;241m60\u001b[39m, \u001b[38;5;124m\"\u001b[39m\u001b[38;5;124mduration_unit\u001b[39m\u001b[38;5;124m\"\u001b[39m: \u001b[38;5;124m\"\u001b[39m\u001b[38;5;124ms\u001b[39m\u001b[38;5;124m\"\u001b[39m,\n\u001b[0;32m    154\u001b[0m         \u001b[38;5;124m\"\u001b[39m\u001b[38;5;124msymbol\u001b[39m\u001b[38;5;124m\"\u001b[39m: \u001b[38;5;124m\"\u001b[39m\u001b[38;5;124mR_100\u001b[39m\u001b[38;5;124m\"\u001b[39m\n\u001b[0;32m    155\u001b[0m     })\n\u001b[0;32m    156\u001b[0m \u001b[38;5;28;01melif\u001b[39;00m signal \u001b[38;5;241m==\u001b[39m \u001b[38;5;124m'\u001b[39m\u001b[38;5;124mSELL\u001b[39m\u001b[38;5;124m'\u001b[39m:\n\u001b[1;32m--> 157\u001b[0m     proposal \u001b[38;5;241m=\u001b[39m \u001b[38;5;28;01mawait\u001b[39;00m api\u001b[38;5;241m.\u001b[39mproposal({\n\u001b[0;32m    158\u001b[0m         \u001b[38;5;124m\"\u001b[39m\u001b[38;5;124mproposal\u001b[39m\u001b[38;5;124m\"\u001b[39m: \u001b[38;5;241m1\u001b[39m, \u001b[38;5;124m\"\u001b[39m\u001b[38;5;124mamount\u001b[39m\u001b[38;5;124m\"\u001b[39m: \u001b[38;5;241m100\u001b[39m, \u001b[38;5;124m\"\u001b[39m\u001b[38;5;124mbarrier\u001b[39m\u001b[38;5;124m\"\u001b[39m: \u001b[38;5;124m\"\u001b[39m\u001b[38;5;124m-0.1\u001b[39m\u001b[38;5;124m\"\u001b[39m, \u001b[38;5;124m\"\u001b[39m\u001b[38;5;124mbasis\u001b[39m\u001b[38;5;124m\"\u001b[39m: \u001b[38;5;124m\"\u001b[39m\u001b[38;5;124mpayout\u001b[39m\u001b[38;5;124m\"\u001b[39m,\n\u001b[0;32m    159\u001b[0m         \u001b[38;5;124m\"\u001b[39m\u001b[38;5;124mcontract_type\u001b[39m\u001b[38;5;124m\"\u001b[39m: \u001b[38;5;124m\"\u001b[39m\u001b[38;5;124mPUT\u001b[39m\u001b[38;5;124m\"\u001b[39m, \u001b[38;5;124m\"\u001b[39m\u001b[38;5;124mcurrency\u001b[39m\u001b[38;5;124m\"\u001b[39m: \u001b[38;5;124m\"\u001b[39m\u001b[38;5;124mUSD\u001b[39m\u001b[38;5;124m\"\u001b[39m, \u001b[38;5;124m\"\u001b[39m\u001b[38;5;124mduration\u001b[39m\u001b[38;5;124m\"\u001b[39m: \u001b[38;5;241m60\u001b[39m, \u001b[38;5;124m\"\u001b[39m\u001b[38;5;124mduration_unit\u001b[39m\u001b[38;5;124m\"\u001b[39m: \u001b[38;5;124m\"\u001b[39m\u001b[38;5;124ms\u001b[39m\u001b[38;5;124m\"\u001b[39m,\n\u001b[0;32m    160\u001b[0m         \u001b[38;5;124m\"\u001b[39m\u001b[38;5;124msymbol\u001b[39m\u001b[38;5;124m\"\u001b[39m: \u001b[38;5;124m\"\u001b[39m\u001b[38;5;124mR_100\u001b[39m\u001b[38;5;124m\"\u001b[39m\n\u001b[0;32m    161\u001b[0m     })\n\u001b[0;32m    162\u001b[0m \u001b[38;5;28;01melse\u001b[39;00m:\n\u001b[0;32m    163\u001b[0m     \u001b[38;5;28;01mreturn\u001b[39;00m\n",
      "Cell \u001b[1;32mIn[1], line 114\u001b[0m, in \u001b[0;36mDerivAPI.proposal\u001b[1;34m(self, proposal_params)\u001b[0m\n\u001b[0;32m    112\u001b[0m timeout \u001b[38;5;241m=\u001b[39m \u001b[38;5;241m10\u001b[39m\n\u001b[0;32m    113\u001b[0m \u001b[38;5;28;01mwhile\u001b[39;00m \u001b[38;5;129;01mnot\u001b[39;00m \u001b[38;5;28mself\u001b[39m\u001b[38;5;241m.\u001b[39mresponse \u001b[38;5;129;01mand\u001b[39;00m timeout:\n\u001b[1;32m--> 114\u001b[0m     \u001b[38;5;28;01mawait\u001b[39;00m asyncio\u001b[38;5;241m.\u001b[39msleep(\u001b[38;5;241m1\u001b[39m)\n\u001b[0;32m    115\u001b[0m     timeout \u001b[38;5;241m-\u001b[39m\u001b[38;5;241m=\u001b[39m \u001b[38;5;241m1\u001b[39m\n\u001b[0;32m    117\u001b[0m \u001b[38;5;28;01mif\u001b[39;00m \u001b[38;5;129;01mnot\u001b[39;00m \u001b[38;5;28mself\u001b[39m\u001b[38;5;241m.\u001b[39mresponse:\n",
      "File \u001b[1;32mc:\\Users\\mudeb\\AppData\\Local\\Programs\\Python\\Python312\\Lib\\asyncio\\tasks.py:665\u001b[0m, in \u001b[0;36msleep\u001b[1;34m(delay, result)\u001b[0m\n\u001b[0;32m    661\u001b[0m h \u001b[38;5;241m=\u001b[39m loop\u001b[38;5;241m.\u001b[39mcall_later(delay,\n\u001b[0;32m    662\u001b[0m                     futures\u001b[38;5;241m.\u001b[39m_set_result_unless_cancelled,\n\u001b[0;32m    663\u001b[0m                     future, result)\n\u001b[0;32m    664\u001b[0m \u001b[38;5;28;01mtry\u001b[39;00m:\n\u001b[1;32m--> 665\u001b[0m     \u001b[38;5;28;01mreturn\u001b[39;00m \u001b[38;5;28;01mawait\u001b[39;00m future\n\u001b[0;32m    666\u001b[0m \u001b[38;5;28;01mfinally\u001b[39;00m:\n\u001b[0;32m    667\u001b[0m     h\u001b[38;5;241m.\u001b[39mcancel()\n",
      "\u001b[1;31mCancelledError\u001b[0m: "
     ]
    },
    {
     "name": "stderr",
     "output_type": "stream",
     "text": [
      "Connection to remote host was lost. - goodbye\n"
     ]
    },
    {
     "name": "stdout",
     "output_type": "stream",
     "text": [
      "Error: Connection to remote host was lost.\n",
      "WebSocket connection closed\n"
     ]
    }
   ],
   "source": [
    "import websocket\n",
    "import json\n",
    "import time\n",
    "import threading\n",
    "import pandas as pd\n",
    "import numpy as np\n",
    "import asyncio\n",
    "\n",
    "# Replace with your actual Deriv API key\n",
    "API_TOKEN = 'NF0aJKvNJ4IhKnZ'\n",
    "APP_ID = 64724  # Replace with your app_id if you have one, or use the default 1089\n",
    "\n",
    "class DerivAPI:\n",
    "    def __init__(self):\n",
    "        self.ws = None\n",
    "        self.data = None\n",
    "        self.subscribed = False\n",
    "        self.response = None  # To store proposal responses\n",
    "\n",
    "    def connect(self, retries=3, delay=5):\n",
    "        attempt = 0\n",
    "        while attempt < retries:\n",
    "            try:\n",
    "                websocket.enableTrace(True)\n",
    "                self.ws = websocket.WebSocketApp(\n",
    "                    f\"wss://ws.binaryws.com/websockets/v3?app_id={APP_ID}\",\n",
    "                    on_message=self.on_message,\n",
    "                    on_error=self.on_error,\n",
    "                    on_close=self.on_close,\n",
    "                    on_open=self.on_open\n",
    "                )\n",
    "                wst = threading.Thread(target=self.ws.run_forever)\n",
    "                wst.daemon = True\n",
    "                wst.start()\n",
    "\n",
    "                conn_timeout = 10\n",
    "                while not self.ws.sock or not self.ws.sock.connected and conn_timeout:\n",
    "                    time.sleep(1)\n",
    "                    conn_timeout -= 1\n",
    "\n",
    "                if self.ws.sock and self.ws.sock.connected:\n",
    "                    print(\"Connected to WebSocket\")\n",
    "                    return True\n",
    "            except Exception as e:\n",
    "                print(f\"Connection failed: {e}, retrying in {delay} seconds...\")\n",
    "                time.sleep(delay)\n",
    "                attempt += 1\n",
    "\n",
    "        print('Failed to connect to WebSocket after retries')\n",
    "        return False\n",
    "\n",
    "    def on_message(self, ws, message):\n",
    "        data = json.loads(message)\n",
    "        if 'error' in data:\n",
    "            print(f\"Error: {data['error']['message']}\")\n",
    "        elif 'candles' in data:\n",
    "            self.data = pd.DataFrame(data['candles'])\n",
    "            self.data['time'] = pd.to_datetime(self.data['epoch'], unit='s')\n",
    "            self.subscribed = True\n",
    "        elif 'proposal' in data:\n",
    "            self.response = data['proposal']\n",
    "        print(f\"Received data: {data}\")\n",
    "\n",
    "    def on_error(self, ws, error):\n",
    "        print(f\"Error: {error}\")\n",
    "\n",
    "    def on_close(self, ws, close_status_code, close_msg):\n",
    "        print(\"WebSocket connection closed\")\n",
    "\n",
    "    def on_open(self, ws):\n",
    "        print(\"WebSocket connection opened\")\n",
    "        self.authorize()\n",
    "\n",
    "    def authorize(self):\n",
    "        self.ws.send(json.dumps({\"authorize\": API_TOKEN}))\n",
    "\n",
    "    def get_candles(self, symbol, interval, count):\n",
    "        if not self.ws:\n",
    "            print(\"WebSocket is not connected\")\n",
    "            return None\n",
    "\n",
    "        self.subscribed = False\n",
    "        self.ws.send(json.dumps({\n",
    "            \"ticks_history\": symbol,\n",
    "            \"adjust_start_time\": 1,\n",
    "            \"count\": count,\n",
    "            \"end\": \"latest\",\n",
    "            \"start\": 1,\n",
    "            \"style\": \"candles\",\n",
    "            \"granularity\": interval\n",
    "        }))\n",
    "\n",
    "        timeout = 10\n",
    "        while not self.subscribed and timeout:\n",
    "            time.sleep(1)\n",
    "            timeout -= 1\n",
    "\n",
    "        if not self.subscribed:\n",
    "            print(\"Failed to receive candle data\")\n",
    "            return None\n",
    "\n",
    "        return self.data\n",
    "\n",
    "    async def proposal(self, proposal_params):\n",
    "        if not self.ws:\n",
    "            print(\"WebSocket is not connected\")\n",
    "            return None\n",
    "\n",
    "        self.response = None\n",
    "        self.ws.send(json.dumps(proposal_params))\n",
    "\n",
    "        timeout = 10\n",
    "        while not self.response and timeout:\n",
    "            await asyncio.sleep(1)\n",
    "            timeout -= 1\n",
    "\n",
    "        if not self.response:\n",
    "            print(\"Failed to receive proposal response\")\n",
    "            return None\n",
    "\n",
    "        return self.response\n",
    "\n",
    "def calculate_indicators(df):\n",
    "    df['MA_9'] = df['close'].rolling(window=9).mean()\n",
    "    df['MA_25'] = df['close'].rolling(window=25).mean()\n",
    "\n",
    "    delta = df['close'].diff()\n",
    "    gain = (delta.where(delta > 0, 0)).rolling(window=14).mean()\n",
    "    loss = (-delta.where(delta < 0, 0)).rolling(window=14).mean()\n",
    "    rs = gain / loss\n",
    "    df['RSI'] = 100 - (100 / (1 + rs))\n",
    "\n",
    "    low_6 = df['low'].rolling(window=14).min()\n",
    "    high_10 = df['high'].rolling(window=14).max()\n",
    "    df['%K'] = (df['close'] - low_6) / (high_10 - low_6) * 100\n",
    "    df['%D'] = df['%K'].rolling(window=3).mean()\n",
    "\n",
    "    return df\n",
    "\n",
    "def trading_strategy(df):\n",
    "    last_row = df.iloc[-1]\n",
    "    if last_row['MA_9'] > last_row['MA_25'] and last_row['RSI'] > 50 and last_row['%K'] > last_row['%D']:\n",
    "        return 'BUY'\n",
    "    elif last_row['MA_9'] < last_row['MA_25'] and last_row['RSI'] < 50 and last_row['%K'] < last_row['%D']:\n",
    "        return 'SELL'\n",
    "    else:\n",
    "        return 'HOLD'\n",
    "\n",
    "async def execute_trade(api, signal):\n",
    "    if signal == 'BUY':\n",
    "        proposal = await api.proposal({\n",
    "            \"proposal\": 1, \"amount\": 100, \"barrier\": \"+0.1\", \"basis\": \"payout\",\n",
    "            \"contract_type\": \"CALL\", \"currency\": \"USD\", \"duration\": 60, \"duration_unit\": \"s\",\n",
    "            \"symbol\": \"R_100\"\n",
    "        })\n",
    "    elif signal == 'SELL':\n",
    "        proposal = await api.proposal({\n",
    "            \"proposal\": 1, \"amount\": 100, \"barrier\": \"-0.1\", \"basis\": \"payout\",\n",
    "            \"contract_type\": \"PUT\", \"currency\": \"USD\", \"duration\": 60, \"duration_unit\": \"s\",\n",
    "            \"symbol\": \"R_100\"\n",
    "        })\n",
    "    else:\n",
    "        return\n",
    "\n",
    "    if proposal and 'id' in proposal:\n",
    "        proposal_id = proposal['id']\n",
    "        api.ws.send(json.dumps({\"buy\": proposal_id, \"price\": 100}))\n",
    "        print(f\"Executed {signal} trade with proposal ID: {proposal_id}\")\n",
    "    else:\n",
    "        print(f\"Failed to execute {signal} trade\")\n",
    "\n",
    "async def main():\n",
    "    deriv_api = DerivAPI()\n",
    "    if not deriv_api.connect():\n",
    "        return\n",
    "\n",
    "    symbol = 'R_100'\n",
    "    interval = 60\n",
    "    count = 100\n",
    "\n",
    "    while True:\n",
    "        candles = deriv_api.get_candles(symbol, interval, count)\n",
    "        if candles is not None:\n",
    "            df = calculate_indicators(candles)\n",
    "            signal = trading_strategy(df)\n",
    "            print(f\"Current signal: {signal}\")\n",
    "\n",
    "            await execute_trade(deriv_api, signal)\n",
    "        else:\n",
    "            print(\"Failed to retrieve candle data\")\n",
    "        \n",
    "        time.sleep(60)\n",
    "\n",
    "if __name__ == \"__main__\":\n",
    "    await (main())\n"
   ]
  },
  {
   "cell_type": "code",
   "execution_count": null,
   "metadata": {},
   "outputs": [],
   "source": []
  }
 ],
 "metadata": {
  "kernelspec": {
   "display_name": "Python 3",
   "language": "python",
   "name": "python3"
  },
  "language_info": {
   "codemirror_mode": {
    "name": "ipython",
    "version": 3
   },
   "file_extension": ".py",
   "mimetype": "text/x-python",
   "name": "python",
   "nbconvert_exporter": "python",
   "pygments_lexer": "ipython3",
   "version": "3.12.4"
  }
 },
 "nbformat": 4,
 "nbformat_minor": 2
}
